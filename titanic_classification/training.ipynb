{
 "cells": [
  {
   "cell_type": "markdown",
   "id": "f7eb485c-a7ef-49aa-8b71-8cca2cb02b25",
   "metadata": {},
   "source": [
    "# Training Notebook"
   ]
  },
  {
   "cell_type": "markdown",
   "id": "0a5ae51b-13d8-4c4c-b985-c578e674da27",
   "metadata": {},
   "source": [
    "## Imports"
   ]
  },
  {
   "cell_type": "code",
   "execution_count": 3,
   "id": "2f6296be-0889-4643-885c-7300dc146c8b",
   "metadata": {
    "jupyter": {
     "source_hidden": true
    },
    "tags": []
   },
   "outputs": [],
   "source": [
    "import numpy as np\n",
    "import pandas as pd\n",
    "import matplotlib.pylab as plt\n",
    "\n",
    "# model pipeline imports\n",
    "from sklearn.experimental import enable_iterative_imputer\n",
    "from sklearn.impute import IterativeImputer\n",
    "from sklearn.impute import KNNImputer\n",
    "from sklearn.preprocessing import StandardScaler\n",
    "from sklearn.pipeline import Pipeline\n",
    "from sklearn.model_selection import KFold\n",
    "from sklearn.model_selection import GridSearchCV\n",
    "from sklearn.model_selection import cross_val_score\n",
    "from sklearn.metrics import confusion_matrix\n",
    "\n",
    "\n",
    "# model imports\n",
    "from sklearn.neighbors import KNeighborsClassifier\n",
    "from sklearn.ensemble._weight_boosting import AdaBoostClassifier\n",
    "from sklearn.ensemble._bagging import BaggingClassifier\n",
    "from sklearn.naive_bayes import BernoulliNB\n",
    "from sklearn.calibration import CalibratedClassifierCV\n",
    "from sklearn.multioutput import ClassifierChain\n",
    "from sklearn.tree._classes import DecisionTreeClassifier\n",
    "from sklearn.ensemble._forest import ExtraTreesClassifier\n",
    "from sklearn.naive_bayes import GaussianNB\n",
    "from sklearn.ensemble._gb import GradientBoostingClassifier\n",
    "from sklearn.discriminant_analysis import LinearDiscriminantAnalysis\n",
    "from sklearn.svm._classes import LinearSVC\n",
    "from sklearn.linear_model._logistic import LogisticRegression\n",
    "from sklearn.neural_network._multilayer_perceptron import MLPClassifier\n",
    "from sklearn.naive_bayes import MultinomialNB\n",
    "from sklearn.svm._classes import NuSVC\n",
    "from sklearn.linear_model._passive_aggressive import PassiveAggressiveClassifier\n",
    "from sklearn.discriminant_analysis import QuadraticDiscriminantAnalysis\n",
    "from sklearn.ensemble._forest import RandomForestClassifier\n",
    "from sklearn.linear_model._ridge import RidgeClassifier\n",
    "from sklearn.linear_model._stochastic_gradient import SGDClassifier\n",
    "from sklearn.svm._classes import SVC\n",
    "from sklearn.ensemble._stacking import StackingClassifier\n",
    "from sklearn.ensemble._voting import VotingClassifier\n",
    "import xgboost as xgb\n",
    "xgb.set_config(verbosity=0)"
   ]
  },
  {
   "cell_type": "markdown",
   "id": "e924ec12-05ea-4470-a383-c3dbcf83dc41",
   "metadata": {},
   "source": [
    "## importing proccessed datasets"
   ]
  },
  {
   "cell_type": "code",
   "execution_count": 5,
   "id": "1f48853b-eba7-46a4-a908-92107524d207",
   "metadata": {},
   "outputs": [],
   "source": [
    "x_train = pd.read_csv(r'.\\proccesed_data\\x_train.csv')\n",
    "y_train = pd.read_csv(r'.\\proccesed_data\\y_train.csv')\n",
    "x_test = pd.read_csv(r'.\\proccesed_data\\x_test.csv')"
   ]
  },
  {
   "cell_type": "markdown",
   "id": "073dd9c9-3a32-4654-a835-ce5d0b024170",
   "metadata": {},
   "source": [
    "## creating list of all models"
   ]
  },
  {
   "cell_type": "code",
   "execution_count": 6,
   "id": "aee3966d-7750-4879-a7a7-56c4cf6286f1",
   "metadata": {},
   "outputs": [
    {
     "name": "stdout",
     "output_type": "stream",
     "text": [
      "('KNN', Pipeline(steps=[('scaling', StandardScaler()),\n",
      "                ('model', KNeighborsClassifier())]))\n"
     ]
    }
   ],
   "source": [
    "models = [('AdaBoost', Pipeline([(\"scaling\", StandardScaler()), (\"model\", AdaBoostClassifier())])),\n",
    "          ('KNN', Pipeline([(\"scaling\", StandardScaler()), (\"model\", KNeighborsClassifier())])),\n",
    "          ('BagClass', Pipeline([(\"scaling\", StandardScaler()), (\"model\", BaggingClassifier())])),\n",
    "          ('Bernouli', Pipeline([(\"scaling\", StandardScaler()), (\"model\", BernoulliNB())])),\n",
    "          ('Calibrated', Pipeline([(\"scaling\", StandardScaler()), (\"model\", CalibratedClassifierCV())])),\n",
    "          ('DecisionT', Pipeline([(\"scaling\", StandardScaler()), (\"model\", DecisionTreeClassifier())])),\n",
    "          ('ExtraTrees', Pipeline([(\"scaling\", StandardScaler()), (\"model\", ExtraTreesClassifier())])),\n",
    "          ('GaussNB', Pipeline([(\"scaling\", StandardScaler()), (\"model\", GaussianNB())])),\n",
    "          ('GBoostC', Pipeline([(\"scaling\", StandardScaler()), (\"model\", GradientBoostingClassifier())])),\n",
    "          ('LDA', Pipeline([(\"scaling\", StandardScaler()), (\"model\", LinearDiscriminantAnalysis())])),\n",
    "          ('LogisticR', Pipeline([(\"scaling\", StandardScaler()), (\"model\", LogisticRegression())])),\n",
    "          ('MLP', Pipeline([(\"scaling\", StandardScaler()), (\"model\", MLPClassifier(hidden_layer_sizes=(100,8), max_iter=500))])),\n",
    "          ('NuSVC', Pipeline([(\"scaling\", StandardScaler()), (\"model\", NuSVC())])),\n",
    "          ('PAC', Pipeline([(\"scaling\", StandardScaler()), (\"model\", PassiveAggressiveClassifier())])),\n",
    "          ('QDA', Pipeline([(\"scaling\", StandardScaler()), (\"model\", QuadraticDiscriminantAnalysis())])),\n",
    "          ('RandomF', Pipeline([(\"scaling\", StandardScaler()), (\"model\", RandomForestClassifier())])),\n",
    "          ('RidgeC', Pipeline([(\"scaling\", StandardScaler()), (\"model\", RidgeClassifier())])),\n",
    "          ('SGD', Pipeline([(\"scaling\", StandardScaler()), (\"model\", SGDClassifier())])),\n",
    "          ('SVC', Pipeline([(\"scaling\", StandardScaler()), (\"model\", SVC())])),\n",
    "          ('XGB', Pipeline([(\"scaling\", StandardScaler()), (\"model\", xgb.XGBClassifier(\n",
    "                                                                                     learning_rate=.01,\n",
    "                                                                                     n_estimators= 2000,\n",
    "                                                                                     max_depth= 4,\n",
    "                                                                                     min_child_weight= 2,\n",
    "                                                                                     gamma=0.9,                        \n",
    "                                                                                     subsample=0.8,\n",
    "                                                                                     colsample_bytree=0.8,\n",
    "                                                                                     objective= 'binary:logistic',\n",
    "                                                                                     nthread= -1,\n",
    "                                                                                     scale_pos_weight=1,\n",
    "                                                                                     use_label_encoder= False))]))]\n",
    "         \n",
    "           \n",
    "# ('Classchain', Pipeline([(\"scaling\", StandardScaler()), (\"model\", ClassifierChain(base_estimator=LogisticRegression()))])),\n",
    "# ('MultiNB', Pipeline([(\"scaling\", StandardScaler()), (\"model\", MultinomialNB())])),\n",
    "# ('L-SVC', Pipeline([(\"scaling\", StandardScaler()), (\"model\", LinearSVC())])),\n",
    "# ('StackingC', Pipeline([(\"scaling\", StandardScaler()), (\"model\", StackingClassifier(estimators=LogisticRegression()))])),\n",
    "# ('VotingC', Pipeline([(\"scaling\", StandardScaler()), (\"model\", VotingClassifier(estimators=LogisticRegression()))])),\n",
    "print(models[1])"
   ]
  },
  {
   "cell_type": "code",
   "execution_count": null,
   "id": "56fcc22f-2387-409e-8284-ad97d7c6e100",
   "metadata": {},
   "outputs": [],
   "source": []
  }
 ],
 "metadata": {
  "kernelspec": {
   "display_name": "Python 3",
   "language": "python",
   "name": "python3"
  },
  "language_info": {
   "codemirror_mode": {
    "name": "ipython",
    "version": 3
   },
   "file_extension": ".py",
   "mimetype": "text/x-python",
   "name": "python",
   "nbconvert_exporter": "python",
   "pygments_lexer": "ipython3",
   "version": "3.8.8"
  }
 },
 "nbformat": 4,
 "nbformat_minor": 5
}
