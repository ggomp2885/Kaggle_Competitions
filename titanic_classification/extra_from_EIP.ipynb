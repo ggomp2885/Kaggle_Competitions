{
 "cells": [
  {
   "cell_type": "markdown",
   "id": "ba70b87c-08df-4063-9ba2-4dd5aaee4d64",
   "metadata": {},
   "source": [
    "## manual iterative imputer"
   ]
  },
  {
   "cell_type": "code",
   "execution_count": null,
   "id": "93d5c5a7-f6bf-418d-a44a-edb445daf9a9",
   "metadata": {},
   "outputs": [],
   "source": [
    "print('Before Iterative imputer: ')\n",
    "display(df_3.head(3))\n",
    "\n",
    "imputer = IterativeImputer(max_iter=30, random_state = 0, min_value = 0)\n",
    "# imputer = KNNImputer(n_neighbors=8)\n",
    "\n",
    "df_4 = pd.DataFrame(imputer.fit_transform(df_3), columns= df_3.columns)\n",
    "print('After Iterative Imputer: ')\n",
    "display(df_4.head(3))\n",
    "print(df_4.shape)\n",
    "\n",
    "      \n",
    "print(f'total null values after iterative imputer: {df_4.isnull().sum().sum()}')"
   ]
  }
 ],
 "metadata": {
  "kernelspec": {
   "display_name": "Python 3",
   "language": "python",
   "name": "python3"
  },
  "language_info": {
   "codemirror_mode": {
    "name": "ipython",
    "version": 3
   },
   "file_extension": ".py",
   "mimetype": "text/x-python",
   "name": "python",
   "nbconvert_exporter": "python",
   "pygments_lexer": "ipython3",
   "version": "3.8.8"
  }
 },
 "nbformat": 4,
 "nbformat_minor": 5
}
