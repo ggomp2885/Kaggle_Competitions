{
 "cells": [
  {
   "cell_type": "markdown",
   "id": "f7eb485c-a7ef-49aa-8b71-8cca2cb02b25",
   "metadata": {},
   "source": [
    "# Training Notebook"
   ]
  },
  {
   "cell_type": "markdown",
   "id": "0a5ae51b-13d8-4c4c-b985-c578e674da27",
   "metadata": {},
   "source": [
    "## Imports"
   ]
  },
  {
   "cell_type": "code",
   "execution_count": 180,
   "id": "2f6296be-0889-4643-885c-7300dc146c8b",
   "metadata": {
    "tags": []
   },
   "outputs": [],
   "source": [
    "import numpy as np\n",
    "import pandas as pd\n",
    "import matplotlib.pylab as plt\n",
    "import seaborn as sns\n",
    "sns.set_style('darkgrid')\n",
    "\n",
    "\n",
    "# model pipeline imports\n",
    "from sklearn.experimental import enable_iterative_imputer\n",
    "from sklearn.impute import IterativeImputer\n",
    "from sklearn.impute import KNNImputer\n",
    "from sklearn.preprocessing import StandardScaler\n",
    "from sklearn.pipeline import Pipeline\n",
    "from sklearn.model_selection import KFold\n",
    "from sklearn.model_selection import GridSearchCV\n",
    "#\n",
    "\n",
    "# model evaluation\n",
    "from sklearn.metrics import make_scorer\n",
    "from sklearn.model_selection import cross_val_score\n",
    "from sklearn.model_selection import cross_val_predict\n",
    "from sklearn.metrics import classification_report\n",
    "from sklearn.metrics import confusion_matrix\n",
    "from sklearn.metrics import roc_curve\n",
    "from sklearn.metrics import plot_roc_curve\n",
    "from sklearn.metrics import roc_auc_score\n",
    "from sklearn.metrics import auc\n",
    "from sklearn.metrics import precision_recall_curve\n",
    "\n",
    "\n",
    "# model imports\n",
    "from sklearn.neighbors import KNeighborsClassifier\n",
    "from sklearn.ensemble._weight_boosting import AdaBoostClassifier\n",
    "from sklearn.ensemble._bagging import BaggingClassifier\n",
    "from sklearn.naive_bayes import BernoulliNB\n",
    "from sklearn.calibration import CalibratedClassifierCV\n",
    "from sklearn.multioutput import ClassifierChain\n",
    "from sklearn.tree._classes import DecisionTreeClassifier\n",
    "from sklearn.ensemble._forest import ExtraTreesClassifier\n",
    "from sklearn.naive_bayes import GaussianNB\n",
    "from sklearn.ensemble._gb import GradientBoostingClassifier\n",
    "from sklearn.discriminant_analysis import LinearDiscriminantAnalysis\n",
    "from sklearn.svm._classes import LinearSVC\n",
    "from sklearn.linear_model._logistic import LogisticRegression\n",
    "from sklearn.neural_network._multilayer_perceptron import MLPClassifier\n",
    "from sklearn.naive_bayes import MultinomialNB\n",
    "from sklearn.svm._classes import NuSVC\n",
    "from sklearn.linear_model._passive_aggressive import PassiveAggressiveClassifier\n",
    "from sklearn.discriminant_analysis import QuadraticDiscriminantAnalysis\n",
    "from sklearn.ensemble._forest import RandomForestClassifier\n",
    "from sklearn.linear_model._ridge import RidgeClassifier\n",
    "from sklearn.linear_model._stochastic_gradient import SGDClassifier\n",
    "from sklearn.svm._classes import SVC\n",
    "from sklearn.ensemble._stacking import StackingClassifier\n",
    "from sklearn.ensemble._voting import VotingClassifier\n",
    "import xgboost as xgb\n",
    "xgb.set_config(verbosity=0)"
   ]
  },
  {
   "cell_type": "markdown",
   "id": "e924ec12-05ea-4470-a383-c3dbcf83dc41",
   "metadata": {},
   "source": [
    "## importing proccessed datasets"
   ]
  },
  {
   "cell_type": "code",
   "execution_count": 182,
   "id": "1f48853b-eba7-46a4-a908-92107524d207",
   "metadata": {},
   "outputs": [
    {
     "data": {
      "text/html": [
       "<div>\n",
       "<style scoped>\n",
       "    .dataframe tbody tr th:only-of-type {\n",
       "        vertical-align: middle;\n",
       "    }\n",
       "\n",
       "    .dataframe tbody tr th {\n",
       "        vertical-align: top;\n",
       "    }\n",
       "\n",
       "    .dataframe thead th {\n",
       "        text-align: right;\n",
       "    }\n",
       "</style>\n",
       "<table border=\"1\" class=\"dataframe\">\n",
       "  <thead>\n",
       "    <tr style=\"text-align: right;\">\n",
       "      <th></th>\n",
       "      <th>Pclass</th>\n",
       "      <th>Age</th>\n",
       "      <th>SibSp</th>\n",
       "      <th>Parch</th>\n",
       "      <th>Fare</th>\n",
       "      <th>Sex_male</th>\n",
       "      <th>Embarked_Q</th>\n",
       "      <th>Embarked_S</th>\n",
       "    </tr>\n",
       "  </thead>\n",
       "  <tbody>\n",
       "    <tr>\n",
       "      <th>0</th>\n",
       "      <td>3.0</td>\n",
       "      <td>22.0</td>\n",
       "      <td>1.0</td>\n",
       "      <td>0.0</td>\n",
       "      <td>7.2500</td>\n",
       "      <td>1.0</td>\n",
       "      <td>0.0</td>\n",
       "      <td>1.0</td>\n",
       "    </tr>\n",
       "    <tr>\n",
       "      <th>1</th>\n",
       "      <td>1.0</td>\n",
       "      <td>38.0</td>\n",
       "      <td>1.0</td>\n",
       "      <td>0.0</td>\n",
       "      <td>71.2833</td>\n",
       "      <td>0.0</td>\n",
       "      <td>0.0</td>\n",
       "      <td>0.0</td>\n",
       "    </tr>\n",
       "  </tbody>\n",
       "</table>\n",
       "</div>"
      ],
      "text/plain": [
       "   Pclass   Age  SibSp  Parch     Fare  Sex_male  Embarked_Q  Embarked_S\n",
       "0     3.0  22.0    1.0    0.0   7.2500       1.0         0.0         1.0\n",
       "1     1.0  38.0    1.0    0.0  71.2833       0.0         0.0         0.0"
      ]
     },
     "execution_count": 182,
     "metadata": {},
     "output_type": "execute_result"
    }
   ],
   "source": [
    "X = pd.read_csv(r'.\\proccesed_data\\x_train.csv')\n",
    "Y = pd.read_csv(r'.\\proccesed_data\\y_train.csv').values.ravel()\n",
    "x_test = pd.read_csv(r'.\\proccesed_data\\x_test.csv')\n",
    "\n",
    "X.head(2)"
   ]
  },
  {
   "cell_type": "markdown",
   "id": "073dd9c9-3a32-4654-a835-ce5d0b024170",
   "metadata": {},
   "source": [
    "## creating list of all models"
   ]
  },
  {
   "cell_type": "code",
   "execution_count": 3,
   "id": "aee3966d-7750-4879-a7a7-56c4cf6286f1",
   "metadata": {},
   "outputs": [
    {
     "name": "stdout",
     "output_type": "stream",
     "text": [
      "Pipeline(steps=[('scaling', StandardScaler()),\n",
      "                ('model', KNeighborsClassifier())])\n"
     ]
    }
   ],
   "source": [
    "models = [('AdaBoost', Pipeline([(\"scaling\", StandardScaler()), (\"model\", AdaBoostClassifier())])),\n",
    "          ('KNN', Pipeline([(\"scaling\", StandardScaler()), (\"model\", KNeighborsClassifier())])),\n",
    "          ('BagClass', Pipeline([(\"scaling\", StandardScaler()), (\"model\", BaggingClassifier())])),\n",
    "          ('Bernouli', Pipeline([(\"scaling\", StandardScaler()), (\"model\", BernoulliNB())])),\n",
    "          ('DecisionT', Pipeline([(\"scaling\", StandardScaler()), (\"model\", DecisionTreeClassifier())])),\n",
    "          ('ExtraTrees', Pipeline([(\"scaling\", StandardScaler()), (\"model\", ExtraTreesClassifier())])),\n",
    "          ('GaussNB', Pipeline([(\"scaling\", StandardScaler()), (\"model\", GaussianNB())])),\n",
    "          ('GBoostC', Pipeline([(\"scaling\", StandardScaler()), (\"model\", GradientBoostingClassifier())])),\n",
    "          ('LDA', Pipeline([(\"scaling\", StandardScaler()), (\"model\", LinearDiscriminantAnalysis())])),\n",
    "          ('LogisticR', Pipeline([(\"scaling\", StandardScaler()), (\"model\", LogisticRegression())])),\n",
    "          ('MLP', Pipeline([(\"scaling\", StandardScaler()), (\"model\", MLPClassifier(hidden_layer_sizes=(100,8), max_iter=500))])),\n",
    "          ('NuSVC', Pipeline([(\"scaling\", StandardScaler()), (\"model\", NuSVC())])),\n",
    "          ('PAC', Pipeline([(\"scaling\", StandardScaler()), (\"model\", PassiveAggressiveClassifier())])),\n",
    "          ('QDA', Pipeline([(\"scaling\", StandardScaler()), (\"model\", QuadraticDiscriminantAnalysis())])),\n",
    "          ('RandomF', Pipeline([(\"scaling\", StandardScaler()), (\"model\", RandomForestClassifier())])),\n",
    "          ('RidgeC', Pipeline([(\"scaling\", StandardScaler()), (\"model\", RidgeClassifier())])),\n",
    "          ('SGD', Pipeline([(\"scaling\", StandardScaler()), (\"model\", SGDClassifier())])),\n",
    "          ('SVC', Pipeline([(\"scaling\", StandardScaler()), (\"model\", SVC())])),\n",
    "          ('XGB', Pipeline([(\"scaling\", StandardScaler()), (\"model\", xgb.XGBClassifier(use_label_encoder=False))]))]\n",
    "         \n",
    "# ('Calibrated', Pipeline([(\"scaling\", StandardScaler()), (\"model\", CalibratedClassifierCV())])),   \n",
    "# ('Classchain', Pipeline([(\"scaling\", StandardScaler()), (\"model\", ClassifierChain(base_estimator=LogisticRegression()))])),\n",
    "# ('MultiNB', Pipeline([(\"scaling\", StandardScaler()), (\"model\", MultinomialNB())])),\n",
    "# ('L-SVC', Pipeline([(\"scaling\", StandardScaler()), (\"model\", LinearSVC())])),\n",
    "# ('StackingC', Pipeline([(\"scaling\", StandardScaler()), (\"model\", StackingClassifier(estimators=LogisticRegression()))])),\n",
    "# ('VotingC', Pipeline([(\"scaling\", StandardScaler()), (\"model\", VotingClassifier(estimators=LogisticRegression()))])),\n",
    "print(models[1][1])"
   ]
  },
  {
   "cell_type": "code",
   "execution_count": 4,
   "id": "2de8a7b4-8c5c-46ae-9ffb-eefedf2055b0",
   "metadata": {
    "tags": []
   },
   "outputs": [],
   "source": [
    "# Test options and evaluation metric \n",
    "scoring = 'f1'\n",
    "kfold = KFold(n_splits=10, random_state=1, shuffle=True)"
   ]
  },
  {
   "cell_type": "code",
   "execution_count": 5,
   "id": "a31eba30-b17b-40c5-9e19-308291719176",
   "metadata": {
    "tags": []
   },
   "outputs": [
    {
     "name": "stdout",
     "output_type": "stream",
     "text": [
      "AdaBoost: 0.745510 (0.046583)\n",
      "KNN: 0.740052 (0.044793)\n",
      "BagClass: 0.762734 (0.058459)\n",
      "Bernouli: 0.690997 (0.045513)\n",
      "DecisionT: 0.735477 (0.031269)\n",
      "ExtraTrees: 0.745521 (0.053300)\n",
      "GaussNB: 0.723320 (0.061146)\n",
      "GBoostC: 0.767251 (0.057901)\n",
      "LDA: 0.732410 (0.038429)\n",
      "LogisticR: 0.739793 (0.049976)\n",
      "MLP: 0.751486 (0.035315)\n",
      "NuSVC: 0.750193 (0.060141)\n",
      "PAC: 0.589745 (0.135091)\n",
      "QDA: 0.735204 (0.059793)\n",
      "RandomF: 0.762984 (0.047391)\n",
      "RidgeC: 0.732042 (0.039895)\n",
      "SGD: 0.707635 (0.066212)\n",
      "SVC: 0.740011 (0.063087)\n",
      "XGB: 0.758627 (0.039058)\n",
      "Wall time: 7.98 s\n"
     ]
    }
   ],
   "source": [
    "%%time\n",
    "\n",
    "results = []\n",
    "names = []\n",
    "for name, model in models:\n",
    "    cv_results = cross_val_score(model, X, Y, cv=kfold, scoring=scoring)\n",
    "    results.append(cv_results)\n",
    "    names.append(name)\n",
    "    print(\"%s: %f (%f)\" % (name, cv_results.mean(), cv_results.std()))"
   ]
  },
  {
   "cell_type": "markdown",
   "id": "90bc57df-70a0-4855-85ad-3d514bd7d5e2",
   "metadata": {},
   "source": [
    "## Visual Comparison of Models"
   ]
  },
  {
   "cell_type": "code",
   "execution_count": 6,
   "id": "45124e2a-4126-4e48-8e1e-b967e85f2102",
   "metadata": {
    "tags": []
   },
   "outputs": [
    {
     "data": {
      "image/png": "[encoded data removed]",
      "text/plain": [
       "<Figure size 9000x3600 with 1 Axes>"
      ]
     },
     "metadata": {},
     "output_type": "display_data"
    }
   ],
   "source": [
    "fig = plt.figure(figsize=(30,12), dpi= 300, facecolor='g', edgecolor='w')\n",
    "fig.suptitle('Algorithm Performance Comparison')\n",
    "ax = fig.add_subplot(111)\n",
    "plt.boxplot(results)\n",
    "ax.set_xticklabels(names)\n",
    "plt.show()"
   ]
  },
  {
   "cell_type": "markdown",
   "id": "4c53358b-c0b7-4693-9d3a-c285f361c036",
   "metadata": {},
   "source": [
    "## Creating DummyClassifier"
   ]
  },
  {
   "cell_type": "markdown",
   "id": "e0d70613-49c6-46fd-a92b-6531ca0e5e85",
   "metadata": {},
   "source": [
    "## creating custom scoring function"
   ]
  },
  {
   "cell_type": "code",
   "execution_count": 170,
   "id": "ce1fa4f5-ecf0-4898-bc63-3175a84cafd4",
   "metadata": {
    "jupyter": {
     "source_hidden": true
    },
    "tags": []
   },
   "outputs": [],
   "source": [
    "def profit_amount(y, y_pred):\n",
    "    profit = 0\n",
    "\n",
    "    if y == 0 and y_pred == 0:         #tn\n",
    "        profit += 0\n",
    "    elif y == 0 and y_pred == 1:       #fp\n",
    "        profit += -5000\n",
    "    elif y == 1 and y_pred == 0:       #fn\n",
    "        profit += 0\n",
    "    elif y == 1 and y_pred == 1:       #tp\n",
    "        profit += 10000\n",
    "    \n",
    "    return profit\n",
    "\n",
    "\n",
    "profit_amount_scorer = make_scorer(profit_amount)"
   ]
  },
  {
   "cell_type": "markdown",
   "id": "eda91942-cd84-4b3c-b442-11f9fd998e9b",
   "metadata": {
    "execution": {
     "iopub.execute_input": "2021-07-07T21:20:21.76879Z",
     "iopub.status.busy": "2021-07-07T21:20:21.768398Z",
     "iopub.status.idle": "2021-07-07T21:20:21.795328Z",
     "shell.execute_reply": "2021-07-07T21:20:21.794121Z",
     "shell.execute_reply.started": "2021-07-07T21:20:21.768758Z"
    }
   },
   "source": [
    "# Tuning top 3 Models"
   ]
  },
  {
   "cell_type": "markdown",
   "id": "739d127f-9d71-4c61-a870-a0955767d954",
   "metadata": {},
   "source": [
    "## KNN Tuning"
   ]
  },
  {
   "cell_type": "code",
   "execution_count": 162,
   "id": "104f4330-347f-4c0b-8edd-3b47eb0d6cf5",
   "metadata": {
    "collapsed": true,
    "jupyter": {
     "outputs_hidden": true
    },
    "tags": []
   },
   "outputs": [
    {
     "data": {
      "text/plain": [
       "{'memory': None,\n",
       " 'steps': [('scaling', StandardScaler()), ('model', KNeighborsClassifier())],\n",
       " 'verbose': False,\n",
       " 'scaling': StandardScaler(),\n",
       " 'model': KNeighborsClassifier(),\n",
       " 'scaling__copy': True,\n",
       " 'scaling__with_mean': True,\n",
       " 'scaling__with_std': True,\n",
       " 'model__algorithm': 'auto',\n",
       " 'model__leaf_size': 30,\n",
       " 'model__metric': 'minkowski',\n",
       " 'model__metric_params': None,\n",
       " 'model__n_jobs': None,\n",
       " 'model__n_neighbors': 5,\n",
       " 'model__p': 2,\n",
       " 'model__weights': 'uniform'}"
      ]
     },
     "execution_count": 162,
     "metadata": {},
     "output_type": "execute_result"
    }
   ],
   "source": [
    "models[1][1].get_params()"
   ]
  },
  {
   "cell_type": "code",
   "execution_count": 190,
   "id": "03e30004-d207-4d0e-b317-34b6e1ba57c8",
   "metadata": {
    "tags": []
   },
   "outputs": [
    {
     "name": "stdout",
     "output_type": "stream",
     "text": [
      "highest scoring model: 0.832, with params: {'model__leaf_size': 1, 'model__n_neighbors': 10}\n",
      "Wall time: 6.92 s\n"
     ]
    }
   ],
   "source": [
    "%%time\n",
    "scoring = 'accuracy'\n",
    "# scoring = profit_amount_scorer\n",
    "model_knn = GridSearchCV(estimator = models[1][1], \n",
    "                         param_grid = {'model__n_neighbors': np.arange(6,15),\n",
    "                                       'model__leaf_size': np.arange(1,50,5)},\n",
    "                         cv=10,\n",
    "                         scoring=scoring)\n",
    "model_knn.fit(X, Y)\n",
    "print(f'highest scoring model: {round(model_knn.best_score_, 3)}, with params: {model_knn.best_params_}')"
   ]
  },
  {
   "cell_type": "markdown",
   "id": "2fde8fbb-adbb-4d9f-80ef-d21b076abf54",
   "metadata": {},
   "source": [
    "## Cross_val_score() for KNN (same as above)"
   ]
  },
  {
   "cell_type": "code",
   "execution_count": 191,
   "id": "2775ca35-eca2-4c83-a070-1d4695b41be0",
   "metadata": {},
   "outputs": [
    {
     "name": "stdout",
     "output_type": "stream",
     "text": [
      "0.832\n"
     ]
    }
   ],
   "source": [
    "cv_results = cross_val_score(model_knn.best_estimator_, X, Y, cv=10, scoring=scoring)\n",
    "print(round(cv_results.mean(), 3))"
   ]
  },
  {
   "cell_type": "markdown",
   "id": "13445ece-e69c-4332-b38c-7e25a23b3990",
   "metadata": {},
   "source": [
    "## cross_val_predict() for KNN"
   ]
  },
  {
   "cell_type": "code",
   "execution_count": 192,
   "id": "aa453560-7d35-40b6-9275-858c823c0ce9",
   "metadata": {},
   "outputs": [
    {
     "name": "stdout",
     "output_type": "stream",
     "text": [
      "[0.  0.1 0.2 0.3 0.4 0.5 0.6 0.7 0.8 0.9 1. ]\n",
      "11\n",
      "851\n",
      "227\n"
     ]
    }
   ],
   "source": [
    "y_preds_knn = cross_val_predict(model_knn.best_estimator_, X, Y, cv=10)\n",
    "y_pred_probs_knn = cross_val_predict(model_knn.best_estimator_, X, Y, cv=10, method='predict_proba')[:,1]\n",
    "knn_manual_thresholds = np.unique(y_pred_probs_knn)\n",
    "print(knn_manual_thresholds)\n",
    "\n",
    "#printing threshold size for knn, gbc, and rf models\n",
    "print(len(np.unique(y_pred_probs_knn)))\n",
    "print(len(np.unique(y_pred_probs_gbc)))\n",
    "print(len(np.unique(y_pred_probs_rf)))"
   ]
  },
  {
   "cell_type": "markdown",
   "id": "c7d2ff6f-5466-4477-b5c6-c41294997b01",
   "metadata": {},
   "source": [
    "## confusion_matrix() for KNNcount"
   ]
  },
  {
   "cell_type": "code",
   "execution_count": 193,
   "id": "48af93a3-5821-4700-92ca-4b0437091eb6",
   "metadata": {},
   "outputs": [
    {
     "name": "stdout",
     "output_type": "stream",
     "text": [
      "[[500  49]\n",
      " [101 241]]\n"
     ]
    }
   ],
   "source": [
    "print(confusion_matrix(Y, y_preds_knn))\n",
    "tn, fp, fn, tp = confusion_matrix(Y, y_preds_knn).ravel()"
   ]
  },
  {
   "cell_type": "markdown",
   "id": "e82c6208-7ac8-4e85-9eae-7a317417a518",
   "metadata": {},
   "source": [
    "## Manual Error Analysis for KNN"
   ]
  },
  {
   "cell_type": "code",
   "execution_count": 209,
   "id": "63569138-ec8d-4e5b-92a0-d02befc4704a",
   "metadata": {},
   "outputs": [
    {
     "data": {
      "text/html": [
       "<div>\n",
       "<style scoped>\n",
       "    .dataframe tbody tr th:only-of-type {\n",
       "        vertical-align: middle;\n",
       "    }\n",
       "\n",
       "    .dataframe tbody tr th {\n",
       "        vertical-align: top;\n",
       "    }\n",
       "\n",
       "    .dataframe thead th {\n",
       "        text-align: right;\n",
       "    }\n",
       "</style>\n",
       "<table border=\"1\" class=\"dataframe\">\n",
       "  <thead>\n",
       "    <tr style=\"text-align: right;\">\n",
       "      <th></th>\n",
       "      <th>Pclass</th>\n",
       "      <th>Age</th>\n",
       "      <th>SibSp</th>\n",
       "      <th>Parch</th>\n",
       "      <th>Fare</th>\n",
       "      <th>Sex_male</th>\n",
       "      <th>Embarked_Q</th>\n",
       "      <th>Embarked_S</th>\n",
       "      <th>y_true</th>\n",
       "      <th>y_pred</th>\n",
       "      <th>y_pred_probs</th>\n",
       "    </tr>\n",
       "  </thead>\n",
       "  <tbody>\n",
       "    <tr>\n",
       "      <th>0</th>\n",
       "      <td>3.0</td>\n",
       "      <td>22.0</td>\n",
       "      <td>1.0</td>\n",
       "      <td>0.0</td>\n",
       "      <td>7.2500</td>\n",
       "      <td>1.0</td>\n",
       "      <td>0.0</td>\n",
       "      <td>1.0</td>\n",
       "      <td>0.0</td>\n",
       "      <td>0.0</td>\n",
       "      <td>0.2</td>\n",
       "    </tr>\n",
       "    <tr>\n",
       "      <th>1</th>\n",
       "      <td>1.0</td>\n",
       "      <td>38.0</td>\n",
       "      <td>1.0</td>\n",
       "      <td>0.0</td>\n",
       "      <td>71.2833</td>\n",
       "      <td>0.0</td>\n",
       "      <td>0.0</td>\n",
       "      <td>0.0</td>\n",
       "      <td>1.0</td>\n",
       "      <td>1.0</td>\n",
       "      <td>1.0</td>\n",
       "    </tr>\n",
       "  </tbody>\n",
       "</table>\n",
       "</div>"
      ],
      "text/plain": [
       "   Pclass   Age  SibSp  Parch     Fare  Sex_male  Embarked_Q  Embarked_S  \\\n",
       "0     3.0  22.0    1.0    0.0   7.2500       1.0         0.0         1.0   \n",
       "1     1.0  38.0    1.0    0.0  71.2833       0.0         0.0         0.0   \n",
       "\n",
       "   y_true  y_pred  y_pred_probs  \n",
       "0     0.0     0.0           0.2  \n",
       "1     1.0     1.0           1.0  "
      ]
     },
     "metadata": {},
     "output_type": "display_data"
    },
    {
     "data": {
      "text/plain": [
       "(891, 11)"
      ]
     },
     "metadata": {},
     "output_type": "display_data"
    },
    {
     "name": "stdout",
     "output_type": "stream",
     "text": [
      "\n",
      "\n",
      "true positives df\n"
     ]
    },
    {
     "data": {
      "text/html": [
       "<div>\n",
       "<style scoped>\n",
       "    .dataframe tbody tr th:only-of-type {\n",
       "        vertical-align: middle;\n",
       "    }\n",
       "\n",
       "    .dataframe tbody tr th {\n",
       "        vertical-align: top;\n",
       "    }\n",
       "\n",
       "    .dataframe thead th {\n",
       "        text-align: right;\n",
       "    }\n",
       "</style>\n",
       "<table border=\"1\" class=\"dataframe\">\n",
       "  <thead>\n",
       "    <tr style=\"text-align: right;\">\n",
       "      <th></th>\n",
       "      <th>Pclass</th>\n",
       "      <th>Age</th>\n",
       "      <th>SibSp</th>\n",
       "      <th>Parch</th>\n",
       "      <th>Fare</th>\n",
       "      <th>Sex_male</th>\n",
       "      <th>Embarked_Q</th>\n",
       "      <th>Embarked_S</th>\n",
       "      <th>y_true</th>\n",
       "      <th>y_pred</th>\n",
       "      <th>y_pred_probs</th>\n",
       "    </tr>\n",
       "  </thead>\n",
       "  <tbody>\n",
       "    <tr>\n",
       "      <th>1</th>\n",
       "      <td>1.0</td>\n",
       "      <td>38.0</td>\n",
       "      <td>1.0</td>\n",
       "      <td>0.0</td>\n",
       "      <td>71.2833</td>\n",
       "      <td>0.0</td>\n",
       "      <td>0.0</td>\n",
       "      <td>0.0</td>\n",
       "      <td>1.0</td>\n",
       "      <td>1.0</td>\n",
       "      <td>1.0</td>\n",
       "    </tr>\n",
       "    <tr>\n",
       "      <th>3</th>\n",
       "      <td>1.0</td>\n",
       "      <td>35.0</td>\n",
       "      <td>1.0</td>\n",
       "      <td>0.0</td>\n",
       "      <td>53.1000</td>\n",
       "      <td>0.0</td>\n",
       "      <td>0.0</td>\n",
       "      <td>1.0</td>\n",
       "      <td>1.0</td>\n",
       "      <td>1.0</td>\n",
       "      <td>1.0</td>\n",
       "    </tr>\n",
       "  </tbody>\n",
       "</table>\n",
       "</div>"
      ],
      "text/plain": [
       "   Pclass   Age  SibSp  Parch     Fare  Sex_male  Embarked_Q  Embarked_S  \\\n",
       "1     1.0  38.0    1.0    0.0  71.2833       0.0         0.0         0.0   \n",
       "3     1.0  35.0    1.0    0.0  53.1000       0.0         0.0         1.0   \n",
       "\n",
       "   y_true  y_pred  y_pred_probs  \n",
       "1     1.0     1.0           1.0  \n",
       "3     1.0     1.0           1.0  "
      ]
     },
     "metadata": {},
     "output_type": "display_data"
    },
    {
     "data": {
      "text/plain": [
       "(241, 11)"
      ]
     },
     "metadata": {},
     "output_type": "display_data"
    },
    {
     "data": {
      "text/html": [
       "<div>\n",
       "<style scoped>\n",
       "    .dataframe tbody tr th:only-of-type {\n",
       "        vertical-align: middle;\n",
       "    }\n",
       "\n",
       "    .dataframe tbody tr th {\n",
       "        vertical-align: top;\n",
       "    }\n",
       "\n",
       "    .dataframe thead th {\n",
       "        text-align: right;\n",
       "    }\n",
       "</style>\n",
       "<table border=\"1\" class=\"dataframe\">\n",
       "  <thead>\n",
       "    <tr style=\"text-align: right;\">\n",
       "      <th></th>\n",
       "      <th>Pclass</th>\n",
       "      <th>Age</th>\n",
       "      <th>SibSp</th>\n",
       "      <th>Parch</th>\n",
       "      <th>Fare</th>\n",
       "      <th>Sex_male</th>\n",
       "      <th>Embarked_Q</th>\n",
       "      <th>Embarked_S</th>\n",
       "      <th>y_true</th>\n",
       "      <th>y_pred</th>\n",
       "      <th>y_pred_probs</th>\n",
       "    </tr>\n",
       "  </thead>\n",
       "  <tbody>\n",
       "    <tr>\n",
       "      <th>count</th>\n",
       "      <td>241.000000</td>\n",
       "      <td>241.000000</td>\n",
       "      <td>241.000000</td>\n",
       "      <td>241.000000</td>\n",
       "      <td>241.000000</td>\n",
       "      <td>241.000000</td>\n",
       "      <td>241.000000</td>\n",
       "      <td>241.000000</td>\n",
       "      <td>241.0</td>\n",
       "      <td>241.0</td>\n",
       "      <td>241.000000</td>\n",
       "    </tr>\n",
       "    <tr>\n",
       "      <th>mean</th>\n",
       "      <td>1.767635</td>\n",
       "      <td>27.224643</td>\n",
       "      <td>0.485477</td>\n",
       "      <td>0.572614</td>\n",
       "      <td>57.891736</td>\n",
       "      <td>0.141079</td>\n",
       "      <td>0.112033</td>\n",
       "      <td>0.593361</td>\n",
       "      <td>1.0</td>\n",
       "      <td>1.0</td>\n",
       "      <td>0.864315</td>\n",
       "    </tr>\n",
       "    <tr>\n",
       "      <th>std</th>\n",
       "      <td>0.787897</td>\n",
       "      <td>14.291456</td>\n",
       "      <td>0.646140</td>\n",
       "      <td>0.782569</td>\n",
       "      <td>75.381245</td>\n",
       "      <td>0.348827</td>\n",
       "      <td>0.316064</td>\n",
       "      <td>0.492229</td>\n",
       "      <td>0.0</td>\n",
       "      <td>0.0</td>\n",
       "      <td>0.135602</td>\n",
       "    </tr>\n",
       "    <tr>\n",
       "      <th>min</th>\n",
       "      <td>1.000000</td>\n",
       "      <td>0.420000</td>\n",
       "      <td>0.000000</td>\n",
       "      <td>0.000000</td>\n",
       "      <td>7.225000</td>\n",
       "      <td>0.000000</td>\n",
       "      <td>0.000000</td>\n",
       "      <td>0.000000</td>\n",
       "      <td>1.0</td>\n",
       "      <td>1.0</td>\n",
       "      <td>0.600000</td>\n",
       "    </tr>\n",
       "    <tr>\n",
       "      <th>25%</th>\n",
       "      <td>1.000000</td>\n",
       "      <td>19.000000</td>\n",
       "      <td>0.000000</td>\n",
       "      <td>0.000000</td>\n",
       "      <td>15.245800</td>\n",
       "      <td>0.000000</td>\n",
       "      <td>0.000000</td>\n",
       "      <td>0.000000</td>\n",
       "      <td>1.0</td>\n",
       "      <td>1.0</td>\n",
       "      <td>0.800000</td>\n",
       "    </tr>\n",
       "    <tr>\n",
       "      <th>50%</th>\n",
       "      <td>2.000000</td>\n",
       "      <td>27.000000</td>\n",
       "      <td>0.000000</td>\n",
       "      <td>0.000000</td>\n",
       "      <td>26.550000</td>\n",
       "      <td>0.000000</td>\n",
       "      <td>0.000000</td>\n",
       "      <td>1.000000</td>\n",
       "      <td>1.0</td>\n",
       "      <td>1.0</td>\n",
       "      <td>0.900000</td>\n",
       "    </tr>\n",
       "    <tr>\n",
       "      <th>75%</th>\n",
       "      <td>2.000000</td>\n",
       "      <td>36.000000</td>\n",
       "      <td>1.000000</td>\n",
       "      <td>1.000000</td>\n",
       "      <td>77.958300</td>\n",
       "      <td>0.000000</td>\n",
       "      <td>0.000000</td>\n",
       "      <td>1.000000</td>\n",
       "      <td>1.0</td>\n",
       "      <td>1.0</td>\n",
       "      <td>1.000000</td>\n",
       "    </tr>\n",
       "    <tr>\n",
       "      <th>max</th>\n",
       "      <td>3.000000</td>\n",
       "      <td>63.000000</td>\n",
       "      <td>3.000000</td>\n",
       "      <td>3.000000</td>\n",
       "      <td>512.329200</td>\n",
       "      <td>1.000000</td>\n",
       "      <td>1.000000</td>\n",
       "      <td>1.000000</td>\n",
       "      <td>1.0</td>\n",
       "      <td>1.0</td>\n",
       "      <td>1.000000</td>\n",
       "    </tr>\n",
       "  </tbody>\n",
       "</table>\n",
       "</div>"
      ],
      "text/plain": [
       "           Pclass         Age       SibSp       Parch        Fare    Sex_male  \\\n",
       "count  241.000000  241.000000  241.000000  241.000000  241.000000  241.000000   \n",
       "mean     1.767635   27.224643    0.485477    0.572614   57.891736    0.141079   \n",
       "std      0.787897   14.291456    0.646140    0.782569   75.381245    0.348827   \n",
       "min      1.000000    0.420000    0.000000    0.000000    7.225000    0.000000   \n",
       "25%      1.000000   19.000000    0.000000    0.000000   15.245800    0.000000   \n",
       "50%      2.000000   27.000000    0.000000    0.000000   26.550000    0.000000   \n",
       "75%      2.000000   36.000000    1.000000    1.000000   77.958300    0.000000   \n",
       "max      3.000000   63.000000    3.000000    3.000000  512.329200    1.000000   \n",
       "\n",
       "       Embarked_Q  Embarked_S  y_true  y_pred  y_pred_probs  \n",
       "count  241.000000  241.000000   241.0   241.0    241.000000  \n",
       "mean     0.112033    0.593361     1.0     1.0      0.864315  \n",
       "std      0.316064    0.492229     0.0     0.0      0.135602  \n",
       "min      0.000000    0.000000     1.0     1.0      0.600000  \n",
       "25%      0.000000    0.000000     1.0     1.0      0.800000  \n",
       "50%      0.000000    1.000000     1.0     1.0      0.900000  \n",
       "75%      0.000000    1.000000     1.0     1.0      1.000000  \n",
       "max      1.000000    1.000000     1.0     1.0      1.000000  "
      ]
     },
     "metadata": {},
     "output_type": "display_data"
    },
    {
     "name": "stdout",
     "output_type": "stream",
     "text": [
      "\n",
      "\n",
      "\n"
     ]
    },
    {
     "data": {
      "text/plain": [
       "(49, 11)"
      ]
     },
     "metadata": {},
     "output_type": "display_data"
    },
    {
     "data": {
      "text/html": [
       "<div>\n",
       "<style scoped>\n",
       "    .dataframe tbody tr th:only-of-type {\n",
       "        vertical-align: middle;\n",
       "    }\n",
       "\n",
       "    .dataframe tbody tr th {\n",
       "        vertical-align: top;\n",
       "    }\n",
       "\n",
       "    .dataframe thead th {\n",
       "        text-align: right;\n",
       "    }\n",
       "</style>\n",
       "<table border=\"1\" class=\"dataframe\">\n",
       "  <thead>\n",
       "    <tr style=\"text-align: right;\">\n",
       "      <th></th>\n",
       "      <th>Pclass</th>\n",
       "      <th>Age</th>\n",
       "      <th>SibSp</th>\n",
       "      <th>Parch</th>\n",
       "      <th>Fare</th>\n",
       "      <th>Sex_male</th>\n",
       "      <th>Embarked_Q</th>\n",
       "      <th>Embarked_S</th>\n",
       "      <th>y_true</th>\n",
       "      <th>y_pred</th>\n",
       "      <th>y_pred_probs</th>\n",
       "    </tr>\n",
       "  </thead>\n",
       "  <tbody>\n",
       "    <tr>\n",
       "      <th>count</th>\n",
       "      <td>49.000000</td>\n",
       "      <td>49.000000</td>\n",
       "      <td>49.000000</td>\n",
       "      <td>49.000000</td>\n",
       "      <td>49.000000</td>\n",
       "      <td>49.00000</td>\n",
       "      <td>49.000000</td>\n",
       "      <td>49.000000</td>\n",
       "      <td>49.0</td>\n",
       "      <td>49.0</td>\n",
       "      <td>49.000000</td>\n",
       "    </tr>\n",
       "    <tr>\n",
       "      <th>mean</th>\n",
       "      <td>2.387755</td>\n",
       "      <td>26.741465</td>\n",
       "      <td>0.428571</td>\n",
       "      <td>0.551020</td>\n",
       "      <td>39.814118</td>\n",
       "      <td>0.22449</td>\n",
       "      <td>0.142857</td>\n",
       "      <td>0.612245</td>\n",
       "      <td>0.0</td>\n",
       "      <td>1.0</td>\n",
       "      <td>0.728571</td>\n",
       "    </tr>\n",
       "    <tr>\n",
       "      <th>std</th>\n",
       "      <td>0.861596</td>\n",
       "      <td>12.369410</td>\n",
       "      <td>0.645497</td>\n",
       "      <td>0.867497</td>\n",
       "      <td>69.413314</td>\n",
       "      <td>0.42157</td>\n",
       "      <td>0.353553</td>\n",
       "      <td>0.492287</td>\n",
       "      <td>0.0</td>\n",
       "      <td>0.0</td>\n",
       "      <td>0.124164</td>\n",
       "    </tr>\n",
       "    <tr>\n",
       "      <th>min</th>\n",
       "      <td>1.000000</td>\n",
       "      <td>2.000000</td>\n",
       "      <td>0.000000</td>\n",
       "      <td>0.000000</td>\n",
       "      <td>0.000000</td>\n",
       "      <td>0.00000</td>\n",
       "      <td>0.000000</td>\n",
       "      <td>0.000000</td>\n",
       "      <td>0.0</td>\n",
       "      <td>1.0</td>\n",
       "      <td>0.600000</td>\n",
       "    </tr>\n",
       "    <tr>\n",
       "      <th>25%</th>\n",
       "      <td>2.000000</td>\n",
       "      <td>18.000000</td>\n",
       "      <td>0.000000</td>\n",
       "      <td>0.000000</td>\n",
       "      <td>7.925000</td>\n",
       "      <td>0.00000</td>\n",
       "      <td>0.000000</td>\n",
       "      <td>0.000000</td>\n",
       "      <td>0.0</td>\n",
       "      <td>1.0</td>\n",
       "      <td>0.600000</td>\n",
       "    </tr>\n",
       "    <tr>\n",
       "      <th>50%</th>\n",
       "      <td>3.000000</td>\n",
       "      <td>25.000000</td>\n",
       "      <td>0.000000</td>\n",
       "      <td>0.000000</td>\n",
       "      <td>14.454200</td>\n",
       "      <td>0.00000</td>\n",
       "      <td>0.000000</td>\n",
       "      <td>1.000000</td>\n",
       "      <td>0.0</td>\n",
       "      <td>1.0</td>\n",
       "      <td>0.700000</td>\n",
       "    </tr>\n",
       "    <tr>\n",
       "      <th>75%</th>\n",
       "      <td>3.000000</td>\n",
       "      <td>31.000000</td>\n",
       "      <td>1.000000</td>\n",
       "      <td>1.000000</td>\n",
       "      <td>24.150000</td>\n",
       "      <td>0.00000</td>\n",
       "      <td>0.000000</td>\n",
       "      <td>1.000000</td>\n",
       "      <td>0.0</td>\n",
       "      <td>1.0</td>\n",
       "      <td>0.800000</td>\n",
       "    </tr>\n",
       "    <tr>\n",
       "      <th>max</th>\n",
       "      <td>3.000000</td>\n",
       "      <td>64.000000</td>\n",
       "      <td>3.000000</td>\n",
       "      <td>4.000000</td>\n",
       "      <td>263.000000</td>\n",
       "      <td>1.00000</td>\n",
       "      <td>1.000000</td>\n",
       "      <td>1.000000</td>\n",
       "      <td>0.0</td>\n",
       "      <td>1.0</td>\n",
       "      <td>1.000000</td>\n",
       "    </tr>\n",
       "  </tbody>\n",
       "</table>\n",
       "</div>"
      ],
      "text/plain": [
       "          Pclass        Age      SibSp      Parch        Fare  Sex_male  \\\n",
       "count  49.000000  49.000000  49.000000  49.000000   49.000000  49.00000   \n",
       "mean    2.387755  26.741465   0.428571   0.551020   39.814118   0.22449   \n",
       "std     0.861596  12.369410   0.645497   0.867497   69.413314   0.42157   \n",
       "min     1.000000   2.000000   0.000000   0.000000    0.000000   0.00000   \n",
       "25%     2.000000  18.000000   0.000000   0.000000    7.925000   0.00000   \n",
       "50%     3.000000  25.000000   0.000000   0.000000   14.454200   0.00000   \n",
       "75%     3.000000  31.000000   1.000000   1.000000   24.150000   0.00000   \n",
       "max     3.000000  64.000000   3.000000   4.000000  263.000000   1.00000   \n",
       "\n",
       "       Embarked_Q  Embarked_S  y_true  y_pred  y_pred_probs  \n",
       "count   49.000000   49.000000    49.0    49.0     49.000000  \n",
       "mean     0.142857    0.612245     0.0     1.0      0.728571  \n",
       "std      0.353553    0.492287     0.0     0.0      0.124164  \n",
       "min      0.000000    0.000000     0.0     1.0      0.600000  \n",
       "25%      0.000000    0.000000     0.0     1.0      0.600000  \n",
       "50%      0.000000    1.000000     0.0     1.0      0.700000  \n",
       "75%      0.000000    1.000000     0.0     1.0      0.800000  \n",
       "max      1.000000    1.000000     0.0     1.0      1.000000  "
      ]
     },
     "metadata": {},
     "output_type": "display_data"
    }
   ],
   "source": [
    "df_EA = X.copy()\n",
    "df_EA['y_true'] = Y\n",
    "df_EA['y_pred'] = y_preds_knn\n",
    "df_EA['y_pred_probs'] = y_pred_probs_knn\n",
    "\n",
    "# complete df\n",
    "display(df_EA.head(2), df_EA.shape)\n",
    "print('\\n\\ntrue positives df')\n",
    "\n",
    "# true postives df\n",
    "tp_df = df_EA[(df_EA['y_true'] == 1)&(df_EA['y_pred']==1)]\n",
    "display(tp_df.head(2), tp_df.shape, tp_df.describe())\n",
    "print('\\n\\n')\n",
    "\n",
    "# false postives df\n",
    "fp_df = df_EA[(df_EA['y_true'] == 0)&(df_EA['y_pred']==1)]\n",
    "display(fp_df.shape, fp_df.describe())\n",
    "\n",
    "# false negatives df\n",
    "# fn = len(df[(df['y'] == 1)&(df['y_pred']==0)])\n",
    "# result.append((fp,fn)) "
   ]
  },
  {
   "cell_type": "markdown",
   "id": "3eda6fb0-22a4-40bf-945b-83489eba15a8",
   "metadata": {},
   "source": [
    "## Classification Report for KNN and manual verification"
   ]
  },
  {
   "cell_type": "code",
   "execution_count": 69,
   "id": "c65f8284-aa30-43d8-8703-07270639efd1",
   "metadata": {},
   "outputs": [
    {
     "name": "stdout",
     "output_type": "stream",
     "text": [
      "              precision    recall  f1-score   support\n",
      "\n",
      "         0.0       0.83      0.91      0.87       549\n",
      "         1.0       0.83      0.70      0.76       342\n",
      "\n",
      "    accuracy                           0.83       891\n",
      "   macro avg       0.83      0.81      0.82       891\n",
      "weighted avg       0.83      0.83      0.83       891\n",
      "\n",
      "\n",
      "shape of Y: (891,)\n",
      "total samples in Cmatrix: 891\n",
      "\n",
      "accuracy score of Cmatrix: 0.83\n",
      "precision score of Cmatrix: 0.83\n",
      "recall score of Cmatrix: 0.7\n",
      "specificity score of Cmatrix: 0.91\n"
     ]
    }
   ],
   "source": [
    "print(classification_report(Y, y_preds_knn))\n",
    "\n",
    "# calculating manual recall score from Cmatrix above to verify results\n",
    "print(f'\\nshape of Y: {Y.shape}')\n",
    "print(f'total samples in Cmatrix: {tn+fp+fn+tp}\\n')\n",
    "print(f'accuracy score of Cmatrix: {round((tn+tp) / (tn+fp+fn+tp), 2)}')\n",
    "print(f'precision score of Cmatrix: {round(tp / (tp+fp), 2)}')\n",
    "print(f'recall score of Cmatrix: {round(tp / (tp+fn), 2)}')\n",
    "print(f'specificity score of Cmatrix: {round(tn / (tn+fp), 2)}')"
   ]
  },
  {
   "cell_type": "markdown",
   "id": "29c1f13b-b5fd-4a9f-8559-3ace1cf4ff77",
   "metadata": {},
   "source": [
    "## roc_auc_score() for KNN"
   ]
  },
  {
   "cell_type": "code",
   "execution_count": 124,
   "id": "c6e3642a-be60-4baa-992e-51d16b2e6168",
   "metadata": {},
   "outputs": [
    {
     "name": "stdout",
     "output_type": "stream",
     "text": [
      "knn auc check: 0.87\n",
      "knn thresholds: [2.  1.  0.9 0.8 0.7 0.6 0.5 0.4 0.3 0.2 0.1 0. ]\n",
      "knn thresholds size: 12\n",
      "\n",
      "gbc auc check: 0.89\n",
      "gbc thresholds size: 852\n",
      "\n",
      "rf auc check: 0.88\n",
      "rf thresholds size: 228\n"
     ]
    },
    {
     "data": {
      "image/png": "[encoded data removed]",
      "text/plain": [
       "<Figure size 504x360 with 1 Axes>"
      ]
     },
     "metadata": {},
     "output_type": "display_data"
    }
   ],
   "source": [
    "plt.rcParams[\"figure.figsize\"] = (7,5)\n",
    "sns.set(context='talk',\n",
    "        font_scale=.95,\n",
    "        font='arial',\n",
    "        palette='dark',\n",
    "        rc={\"lines.linewidth\" : 3})\n",
    "\n",
    "#no_skill\n",
    "x_no_skill = [0,1]\n",
    "y_no_skill = [0,1]\n",
    "auc_no_skill = auc(x_no_skill,  y_no_skill)\n",
    "\n",
    "#knn\n",
    "fpr_knn, tpr_knn, thresholds_knn = roc_curve(Y, y_pred_probs_knn)\n",
    "auc_knn = round(auc(fpr_knn, tpr_knn), 2)\n",
    "print(f'knn auc check: {round(roc_auc_score(Y, y_pred_probs_knn), 2)}')\n",
    "print(f'knn thresholds: {thresholds_knn}')\n",
    "print(f'knn thresholds size: {thresholds_knn.size}\\n')\n",
    "\n",
    "#gbc\n",
    "fpr_gbc, tpr_gbc, thresholds_gbc = roc_curve(Y, y_pred_probs_gbc, drop_intermediate=False)\n",
    "auc_gbc = round(auc(fpr_gbc, tpr_gbc), 2)\n",
    "print(f'gbc auc check: {round(roc_auc_score(Y, y_pred_probs_gbc), 2)}')\n",
    "print(f'gbc thresholds size: {thresholds_gbc.size}\\n')\n",
    "\n",
    "#rf\n",
    "fpr_rf, tpr_rf, thresholds_rf = roc_curve(Y, y_pred_probs_rf, drop_intermediate=False)\n",
    "auc_rf = round(auc(fpr_rf, tpr_rf), 2)\n",
    "print(f'rf auc check: {round(roc_auc_score(Y, y_pred_probs_rf), 2)}')\n",
    "print(f'rf thresholds size: {thresholds_rf.size}')\n",
    "\n",
    "plt.plot(x_no_skill, y_no_skill, linestyle='--', label = f'No skill (auc = {auc_no_skill})')\n",
    "plt.plot(fpr_knn, tpr_knn, label = f'KNN (auc = {auc_knn})')\n",
    "plt.plot(fpr_rf, tpr_rf, label = f'RF (auc = {auc_rf})')\n",
    "plt.plot(fpr_gbc, tpr_gbc, label = f'GBC (auc = {auc_gbc})')\n",
    "\n",
    "plt.suptitle(\"ROC curve comparison\")\n",
    "plt.xlabel('False Positive Rate -->')\n",
    "plt.ylabel('True Positive Rate -->')\n",
    "plt.legend()\n",
    "plt.show()"
   ]
  },
  {
   "cell_type": "markdown",
   "id": "7b53675e-fa4a-46f1-a8b6-9947d5618c1e",
   "metadata": {},
   "source": [
    "## dataframe of thresholds for KNN - sorted by highest profit"
   ]
  },
  {
   "cell_type": "code",
   "execution_count": 166,
   "id": "a14c0ca4-ace1-42d6-9e3c-c2f2356414e6",
   "metadata": {},
   "outputs": [
    {
     "data": {
      "text/html": [
       "<div>\n",
       "<style scoped>\n",
       "    .dataframe tbody tr th:only-of-type {\n",
       "        vertical-align: middle;\n",
       "    }\n",
       "\n",
       "    .dataframe tbody tr th {\n",
       "        vertical-align: top;\n",
       "    }\n",
       "\n",
       "    .dataframe thead th {\n",
       "        text-align: right;\n",
       "    }\n",
       "</style>\n",
       "<table border=\"1\" class=\"dataframe\">\n",
       "  <thead>\n",
       "    <tr style=\"text-align: right;\">\n",
       "      <th></th>\n",
       "      <th>tp</th>\n",
       "      <th>tn</th>\n",
       "      <th>fp</th>\n",
       "      <th>fn</th>\n",
       "      <th>thr</th>\n",
       "      <th>tpr_recall</th>\n",
       "      <th>fpr</th>\n",
       "      <th>tpr_recall-fpr</th>\n",
       "      <th>precision</th>\n",
       "      <th>specificity</th>\n",
       "      <th>f1score</th>\n",
       "      <th>profit</th>\n",
       "    </tr>\n",
       "  </thead>\n",
       "  <tbody>\n",
       "    <tr>\n",
       "      <th>0</th>\n",
       "      <td>320</td>\n",
       "      <td>209</td>\n",
       "      <td>340</td>\n",
       "      <td>22</td>\n",
       "      <td>0.000000</td>\n",
       "      <td>0.936</td>\n",
       "      <td>0.619</td>\n",
       "      <td>0.317</td>\n",
       "      <td>0.484848</td>\n",
       "      <td>0.380692</td>\n",
       "      <td>0.638799</td>\n",
       "      <td>1500000</td>\n",
       "    </tr>\n",
       "    <tr>\n",
       "      <th>1</th>\n",
       "      <td>298</td>\n",
       "      <td>371</td>\n",
       "      <td>178</td>\n",
       "      <td>44</td>\n",
       "      <td>0.142857</td>\n",
       "      <td>0.871</td>\n",
       "      <td>0.324</td>\n",
       "      <td>0.547</td>\n",
       "      <td>0.626050</td>\n",
       "      <td>0.675774</td>\n",
       "      <td>0.728486</td>\n",
       "      <td>2090000</td>\n",
       "    </tr>\n",
       "    <tr>\n",
       "      <th>2</th>\n",
       "      <td>278</td>\n",
       "      <td>449</td>\n",
       "      <td>100</td>\n",
       "      <td>64</td>\n",
       "      <td>0.285714</td>\n",
       "      <td>0.813</td>\n",
       "      <td>0.182</td>\n",
       "      <td>0.631</td>\n",
       "      <td>0.735450</td>\n",
       "      <td>0.817851</td>\n",
       "      <td>0.772283</td>\n",
       "      <td>2280000</td>\n",
       "    </tr>\n",
       "    <tr>\n",
       "      <th>3</th>\n",
       "      <td>252</td>\n",
       "      <td>488</td>\n",
       "      <td>61</td>\n",
       "      <td>90</td>\n",
       "      <td>0.428571</td>\n",
       "      <td>0.737</td>\n",
       "      <td>0.111</td>\n",
       "      <td>0.626</td>\n",
       "      <td>0.805112</td>\n",
       "      <td>0.888889</td>\n",
       "      <td>0.769552</td>\n",
       "      <td>2215000</td>\n",
       "    </tr>\n",
       "    <tr>\n",
       "      <th>4</th>\n",
       "      <td>217</td>\n",
       "      <td>514</td>\n",
       "      <td>35</td>\n",
       "      <td>125</td>\n",
       "      <td>0.571429</td>\n",
       "      <td>0.635</td>\n",
       "      <td>0.064</td>\n",
       "      <td>0.571</td>\n",
       "      <td>0.861111</td>\n",
       "      <td>0.936248</td>\n",
       "      <td>0.730969</td>\n",
       "      <td>1995000</td>\n",
       "    </tr>\n",
       "    <tr>\n",
       "      <th>5</th>\n",
       "      <td>178</td>\n",
       "      <td>534</td>\n",
       "      <td>15</td>\n",
       "      <td>164</td>\n",
       "      <td>0.714286</td>\n",
       "      <td>0.520</td>\n",
       "      <td>0.027</td>\n",
       "      <td>0.493</td>\n",
       "      <td>0.922280</td>\n",
       "      <td>0.972678</td>\n",
       "      <td>0.665038</td>\n",
       "      <td>1705000</td>\n",
       "    </tr>\n",
       "  </tbody>\n",
       "</table>\n",
       "</div>"
      ],
      "text/plain": [
       "    tp   tn   fp   fn       thr  tpr_recall    fpr  tpr_recall-fpr  precision  \\\n",
       "0  320  209  340   22  0.000000       0.936  0.619           0.317   0.484848   \n",
       "1  298  371  178   44  0.142857       0.871  0.324           0.547   0.626050   \n",
       "2  278  449  100   64  0.285714       0.813  0.182           0.631   0.735450   \n",
       "3  252  488   61   90  0.428571       0.737  0.111           0.626   0.805112   \n",
       "4  217  514   35  125  0.571429       0.635  0.064           0.571   0.861111   \n",
       "5  178  534   15  164  0.714286       0.520  0.027           0.493   0.922280   \n",
       "\n",
       "   specificity   f1score   profit  \n",
       "0     0.380692  0.638799  1500000  \n",
       "1     0.675774  0.728486  2090000  \n",
       "2     0.817851  0.772283  2280000  \n",
       "3     0.888889  0.769552  2215000  \n",
       "4     0.936248  0.730969  1995000  \n",
       "5     0.972678  0.665038  1705000  "
      ]
     },
     "metadata": {},
     "output_type": "display_data"
    }
   ],
   "source": [
    "df = pd.DataFrame({'y': Y,\n",
    "                   'y_score': y_pred_probs_knn})\n",
    "\n",
    "result = []\n",
    "for i in knn_manual_thresholds:\n",
    "    df['y_pred'] = (df['y_score'] > i)\n",
    "    tp = len(df[(df['y'] == 1)&(df['y_pred']==1)])\n",
    "    tn = len(df[(df['y'] == 0)&(df['y_pred']==0)])\n",
    "    fp = len(df[(df['y'] == 0)&(df['y_pred']==1)])\n",
    "    fn = len(df[(df['y'] == 1)&(df['y_pred']==0)])\n",
    "    result.append((tp,tn,fp,fn,i))\n",
    "\n",
    "knn_t_df                    = pd.DataFrame(result)\n",
    "knn_t_df.columns            = ['tp', 'tn', 'fp', 'fn', 'thr']\n",
    "knn_t_df['tpr_recall']      = round(knn_t_df['tp'] / (knn_t_df['tp'] + knn_t_df['fn']), 3)\n",
    "knn_t_df['fpr']             = round(knn_t_df['fp'] / (knn_t_df['fp'] + knn_t_df['tn']), 3)\n",
    "knn_t_df['tpr_recall-fpr']  = knn_t_df['tpr_recall'] - knn_t_df['fpr']\n",
    "knn_t_df['precision']       = knn_t_df['tp'] / (knn_t_df['tp'] + knn_t_df['fp'])\n",
    "knn_t_df['specificity']     = knn_t_df['tn'] / (knn_t_df['tn'] + knn_t_df['fp'])\n",
    "knn_t_df['f1score']         = 2*knn_t_df['precision']*knn_t_df['tpr_recall'] / (knn_t_df['precision'] + knn_t_df['tpr_recall'])\n",
    "knn_t_df['profit']          = 10000*knn_t_df['tp'] - 5000*knn_t_df['fp'] \n",
    "\n",
    "display(knn_t_df.sort_values('tpr_recall', ascending=False).head(6))"
   ]
  },
  {
   "cell_type": "markdown",
   "id": "4a222989-9294-48f5-bb77-250bab2ba7b0",
   "metadata": {},
   "source": [
    "## smaller df with just tpr,fpr,thr, and profit"
   ]
  },
  {
   "cell_type": "code",
   "execution_count": 100,
   "id": "d8e8feff-8cb3-432c-bde4-2eb9955e902c",
   "metadata": {},
   "outputs": [
    {
     "data": {
      "text/html": [
       "<div>\n",
       "<style scoped>\n",
       "    .dataframe tbody tr th:only-of-type {\n",
       "        vertical-align: middle;\n",
       "    }\n",
       "\n",
       "    .dataframe tbody tr th {\n",
       "        vertical-align: top;\n",
       "    }\n",
       "\n",
       "    .dataframe thead th {\n",
       "        text-align: right;\n",
       "    }\n",
       "</style>\n",
       "<table border=\"1\" class=\"dataframe\">\n",
       "  <thead>\n",
       "    <tr style=\"text-align: right;\">\n",
       "      <th></th>\n",
       "      <th>tpr</th>\n",
       "      <th>fpr</th>\n",
       "      <th>thr</th>\n",
       "      <th>tpr-fpr</th>\n",
       "    </tr>\n",
       "  </thead>\n",
       "  <tbody>\n",
       "    <tr>\n",
       "      <th>5</th>\n",
       "      <td>0.705</td>\n",
       "      <td>0.089</td>\n",
       "      <td>0.6</td>\n",
       "      <td>0.615</td>\n",
       "    </tr>\n",
       "    <tr>\n",
       "      <th>6</th>\n",
       "      <td>0.746</td>\n",
       "      <td>0.148</td>\n",
       "      <td>0.5</td>\n",
       "      <td>0.598</td>\n",
       "    </tr>\n",
       "    <tr>\n",
       "      <th>7</th>\n",
       "      <td>0.792</td>\n",
       "      <td>0.197</td>\n",
       "      <td>0.4</td>\n",
       "      <td>0.596</td>\n",
       "    </tr>\n",
       "    <tr>\n",
       "      <th>8</th>\n",
       "      <td>0.865</td>\n",
       "      <td>0.279</td>\n",
       "      <td>0.3</td>\n",
       "      <td>0.587</td>\n",
       "    </tr>\n",
       "    <tr>\n",
       "      <th>4</th>\n",
       "      <td>0.623</td>\n",
       "      <td>0.062</td>\n",
       "      <td>0.7</td>\n",
       "      <td>0.561</td>\n",
       "    </tr>\n",
       "    <tr>\n",
       "      <th>3</th>\n",
       "      <td>0.550</td>\n",
       "      <td>0.027</td>\n",
       "      <td>0.8</td>\n",
       "      <td>0.522</td>\n",
       "    </tr>\n",
       "  </tbody>\n",
       "</table>\n",
       "</div>"
      ],
      "text/plain": [
       "     tpr    fpr  thr  tpr-fpr\n",
       "5  0.705  0.089  0.6    0.615\n",
       "6  0.746  0.148  0.5    0.598\n",
       "7  0.792  0.197  0.4    0.596\n",
       "8  0.865  0.279  0.3    0.587\n",
       "4  0.623  0.062  0.7    0.561\n",
       "3  0.550  0.027  0.8    0.522"
      ]
     },
     "metadata": {},
     "output_type": "display_data"
    },
    {
     "data": {
      "text/html": [
       "<div>\n",
       "<style scoped>\n",
       "    .dataframe tbody tr th:only-of-type {\n",
       "        vertical-align: middle;\n",
       "    }\n",
       "\n",
       "    .dataframe tbody tr th {\n",
       "        vertical-align: top;\n",
       "    }\n",
       "\n",
       "    .dataframe thead th {\n",
       "        text-align: right;\n",
       "    }\n",
       "</style>\n",
       "<table border=\"1\" class=\"dataframe\">\n",
       "  <thead>\n",
       "    <tr style=\"text-align: right;\">\n",
       "      <th></th>\n",
       "      <th>tpr</th>\n",
       "      <th>fpr</th>\n",
       "      <th>thr</th>\n",
       "      <th>tpr-fpr</th>\n",
       "      <th>profit</th>\n",
       "    </tr>\n",
       "  </thead>\n",
       "  <tbody>\n",
       "    <tr>\n",
       "      <th>4</th>\n",
       "      <td>0.213</td>\n",
       "      <td>0.000</td>\n",
       "      <td>0.974</td>\n",
       "      <td>0.213</td>\n",
       "      <td>213.45</td>\n",
       "    </tr>\n",
       "    <tr>\n",
       "      <th>6</th>\n",
       "      <td>0.266</td>\n",
       "      <td>0.002</td>\n",
       "      <td>0.967</td>\n",
       "      <td>0.264</td>\n",
       "      <td>175.01</td>\n",
       "    </tr>\n",
       "    <tr>\n",
       "      <th>3</th>\n",
       "      <td>0.164</td>\n",
       "      <td>0.000</td>\n",
       "      <td>0.979</td>\n",
       "      <td>0.164</td>\n",
       "      <td>163.74</td>\n",
       "    </tr>\n",
       "    <tr>\n",
       "      <th>2</th>\n",
       "      <td>0.158</td>\n",
       "      <td>0.000</td>\n",
       "      <td>0.979</td>\n",
       "      <td>0.158</td>\n",
       "      <td>157.89</td>\n",
       "    </tr>\n",
       "    <tr>\n",
       "      <th>5</th>\n",
       "      <td>0.213</td>\n",
       "      <td>0.002</td>\n",
       "      <td>0.973</td>\n",
       "      <td>0.212</td>\n",
       "      <td>122.38</td>\n",
       "    </tr>\n",
       "    <tr>\n",
       "      <th>8</th>\n",
       "      <td>0.295</td>\n",
       "      <td>0.005</td>\n",
       "      <td>0.960</td>\n",
       "      <td>0.290</td>\n",
       "      <td>22.10</td>\n",
       "    </tr>\n",
       "    <tr>\n",
       "      <th>1</th>\n",
       "      <td>0.003</td>\n",
       "      <td>0.000</td>\n",
       "      <td>0.996</td>\n",
       "      <td>0.003</td>\n",
       "      <td>2.92</td>\n",
       "    </tr>\n",
       "  </tbody>\n",
       "</table>\n",
       "</div>"
      ],
      "text/plain": [
       "     tpr    fpr    thr  tpr-fpr  profit\n",
       "4  0.213  0.000  0.974    0.213  213.45\n",
       "6  0.266  0.002  0.967    0.264  175.01\n",
       "3  0.164  0.000  0.979    0.164  163.74\n",
       "2  0.158  0.000  0.979    0.158  157.89\n",
       "5  0.213  0.002  0.973    0.212  122.38\n",
       "8  0.295  0.005  0.960    0.290   22.10\n",
       "1  0.003  0.000  0.996    0.003    2.92"
      ]
     },
     "metadata": {},
     "output_type": "display_data"
    }
   ],
   "source": [
    "# thresholds for KNN\n",
    "knn_thresh_df = pd.DataFrame({'tpr': tpr_knn, \n",
    "                              'fpr': fpr_knn,\n",
    "                              'thr': thresholds_knn,\n",
    "                              'tpr-fpr': tpr_knn - fpr_knn}).round(3) #youdens J statistic\n",
    "display(knn_thresh_df.sort_values('tpr-fpr', ascending=False).head(6))\n",
    "\n",
    "\n",
    "#thresholds for GBC (with custom calculation of profit from tpr, and costs from fpr)\n",
    "gbc_thresh_df = pd.DataFrame({'tpr': tpr_gbc, \n",
    "                              'fpr': fpr_gbc,\n",
    "                              'thr': thresholds_gbc,\n",
    "                              'tpr-fpr': tpr_gbc - fpr_gbc,\n",
    "                              'profit': (1000*tpr_gbc - 50000*fpr_gbc).round(2)}).round(3)\n",
    "display(gbc_thresh_df.sort_values('profit', ascending=False).head(7))"
   ]
  },
  {
   "cell_type": "markdown",
   "id": "156c97cc-d8e0-411b-bc04-09789ec7858d",
   "metadata": {},
   "source": [
    "## Changing classification Threshold and comparing new TPR and FPR scores"
   ]
  },
  {
   "cell_type": "code",
   "execution_count": 82,
   "id": "3b9f095f-89de-4999-b67c-8caa20ac9748",
   "metadata": {},
   "outputs": [
    {
     "name": "stdout",
     "output_type": "stream",
     "text": [
      "[0.2 1.  0.3 1.  0.  0.  0.3 0.2 0.6 0.6]\n",
      "[0 1 1 1 0 0 1 0 1 1]\n",
      "[[396 153]\n",
      " [ 46 296]]\n",
      "with threshold of postive when greater than 0.3\n",
      "tpr (recall) of knn: 0.8654970760233918\n",
      "fpr of knn: 0.2786885245901639\n",
      "153 153 396\n"
     ]
    }
   ],
   "source": [
    "print(y_pred_probs_knn[:10])\n",
    "\n",
    "\n",
    "new_threshold = .3\n",
    "y_preds_knn_new_threshold = (y_pred_probs_knn >= new_threshold).astype(int)\n",
    "print(y_preds_knn_new_threshold[:10])\n",
    "tn, fp, fn, tp = confusion_matrix(Y, y_preds_knn_new_threshold).ravel()\n",
    "\n",
    "print(confusion_matrix(Y, y_preds_knn_new_threshold))\n",
    "print(f'with threshold of postive when greater than {new_threshold}')\n",
    "print(f'tpr (recall) of knn: {tp / (tp+fn)}')\n",
    "print(f'fpr of knn: {fp / (fp+tn)}')"
   ]
  },
  {
   "cell_type": "markdown",
   "id": "afceddd0-da45-4914-9057-1fd40a1499b2",
   "metadata": {},
   "source": [
    "## precision_recall_curve() for models"
   ]
  },
  {
   "cell_type": "code",
   "execution_count": 127,
   "id": "50a11c5e-fdc9-476a-b738-b277344bd685",
   "metadata": {},
   "outputs": [
    {
     "name": "stdout",
     "output_type": "stream",
     "text": [
      "[0.  0.1 0.2 0.3 0.4 0.5 0.6 0.7 0.8 0.9 1. ]\n",
      "11\n",
      "846\n",
      "227\n"
     ]
    },
    {
     "data": {
      "image/png": "[encoded data removed]",
      "text/plain": [
       "<Figure size 504x360 with 1 Axes>"
      ]
     },
     "metadata": {},
     "output_type": "display_data"
    }
   ],
   "source": [
    "plt.rcParams[\"figure.figsize\"] = (7,5)\n",
    "sns.set(context='talk',\n",
    "        font_scale=.95,\n",
    "        font='arial',\n",
    "        palette='dark',\n",
    "        rc={\"lines.linewidth\" : 3})\n",
    "\n",
    "\n",
    "# no skill\n",
    "x_no_skill = [0,1]\n",
    "y_no_skill = [0,0]\n",
    "auc_no_skill = auc(x_no_skill,  y_no_skill)\n",
    "\n",
    "# knn\n",
    "precision_knn, recall_knn, prc_thresholds_knn = precision_recall_curve(Y, y_pred_probs_knn)\n",
    "auc_score_knn = round(auc(recall_knn, precision_knn), 2)\n",
    "print(prc_thresholds_knn)\n",
    "print(prc_thresholds_knn.size)\n",
    "\n",
    "# gbc\n",
    "precision_gbc, recall_gbc, prc_thresholds_gbc = precision_recall_curve(Y, y_pred_probs_gbc)\n",
    "auc_score_gbc = round(auc(recall_gbc, precision_gbc), 2)\n",
    "print(prc_thresholds_gbc.size)\n",
    "\n",
    "# rf\n",
    "precision_rf, recall_rf, prc_thresholds_rf = precision_recall_curve(Y, y_pred_probs_rf)\n",
    "auc_score_rf = round(auc(recall_rf, precision_rf), 2)\n",
    "print(prc_thresholds_rf.size)\n",
    "\n",
    "plt.plot(x_no_skill, y_no_skill, linestyle='--', label = f'No skill (auc = {auc_no_skill})')\n",
    "plt.plot(recall_knn, precision_knn, label = f'KNN (auc = {auc_knn})')\n",
    "plt.plot(recall_rf, precision_rf, label = f'RF (auc = {auc_rf})')\n",
    "plt.plot(recall_gbc, precision_gbc, label = f'GBC (auc = {auc_gbc})')\n",
    "\n",
    "plt.suptitle(\"PR curve comparison\")\n",
    "plt.xlabel('Recall Score -->')\n",
    "plt.ylabel('Precision Score -->')\n",
    "plt.legend()\n",
    "plt.show()"
   ]
  },
  {
   "cell_type": "markdown",
   "id": "8cd745b5-ee4e-402b-968a-d773cfd08c99",
   "metadata": {},
   "source": [
    "## Comparing new Precision & Recall scores with new threshold"
   ]
  },
  {
   "cell_type": "code",
   "execution_count": 77,
   "id": "fd42c285-5ba8-4e52-b03f-f5cc5ead5d0f",
   "metadata": {},
   "outputs": [
    {
     "name": "stdout",
     "output_type": "stream",
     "text": [
      "              precision    recall  f1-score   support\n",
      "\n",
      "         0.0       0.83      0.91      0.87       549\n",
      "         1.0       0.83      0.70      0.76       342\n",
      "\n",
      "    accuracy                           0.83       891\n",
      "   macro avg       0.83      0.81      0.82       891\n",
      "weighted avg       0.83      0.83      0.83       891\n",
      "\n",
      "\n",
      "\n",
      "With threshold set to greater than 0.21\n",
      "              precision    recall  f1-score   support\n",
      "\n",
      "         0.0       0.90      0.72      0.80       549\n",
      "         1.0       0.66      0.87      0.75       342\n",
      "\n",
      "    accuracy                           0.78       891\n",
      "   macro avg       0.78      0.79      0.77       891\n",
      "weighted avg       0.81      0.78      0.78       891\n",
      "\n"
     ]
    }
   ],
   "source": [
    "print(classification_report(Y, y_preds_knn))\n",
    "\n",
    "print(f'\\n\\nWith threshold set to greater than {new_threshold}')\n",
    "print(classification_report(Y, y_preds_knn_new_thresh))"
   ]
  },
  {
   "cell_type": "markdown",
   "id": "a72c438d-e744-47cc-9087-08943ae213d2",
   "metadata": {},
   "source": [
    "## Gradient Boosted Classifer Tuning"
   ]
  },
  {
   "cell_type": "code",
   "execution_count": 10,
   "id": "1f41df64-95f6-4c21-90b4-7082b016cdc4",
   "metadata": {
    "tags": []
   },
   "outputs": [],
   "source": [
    "# models[8][1].get_params()"
   ]
  },
  {
   "cell_type": "code",
   "execution_count": 16,
   "id": "834816a8-b41c-4493-8bcd-d57686cddb8f",
   "metadata": {
    "tags": []
   },
   "outputs": [
    {
     "name": "stdout",
     "output_type": "stream",
     "text": [
      "highest mean cv score: 0.8530087390761547, with params: {'model__max_depth': 4, 'model__n_estimators': 125}\n",
      "Wall time: 56.3 s\n"
     ]
    }
   ],
   "source": [
    "%%time\n",
    "model_gbc = GridSearchCV(estimator = models[7][1], \n",
    "                         param_grid = {'model__max_depth': [2,3,4,5,6,7],\n",
    "                                       'model__n_estimators': [110,115,120,125,130,135]},\n",
    "                         cv=10,\n",
    "                         scoring = scoring)\n",
    "\n",
    "model_gbc.fit(X, Y)\n",
    "print(f'highest mean cv score: {model_gbc.best_score_}, with params: {model_gbc.best_params_}')"
   ]
  },
  {
   "cell_type": "markdown",
   "id": "3525706c-40cd-4ef4-a232-8df7523c2ee4",
   "metadata": {},
   "source": [
    "### GBC cross_val_predict(), confusion_matrix(), and classification_report()"
   ]
  },
  {
   "cell_type": "code",
   "execution_count": 17,
   "id": "c6c67953-d54d-4fec-87e3-2b689b5647c5",
   "metadata": {},
   "outputs": [
    {
     "name": "stdout",
     "output_type": "stream",
     "text": [
      "[[501  48]\n",
      " [ 84 258]]\n",
      "              precision    recall  f1-score   support\n",
      "\n",
      "         0.0       0.86      0.91      0.88       549\n",
      "         1.0       0.84      0.75      0.80       342\n",
      "\n",
      "    accuracy                           0.85       891\n",
      "   macro avg       0.85      0.83      0.84       891\n",
      "weighted avg       0.85      0.85      0.85       891\n",
      "\n",
      " GBC auc: 0.89\n"
     ]
    }
   ],
   "source": [
    "y_preds_gbc = cross_val_predict(model_gbc.best_estimator_, X, Y, cv=10)\n",
    "y_pred_probs_gbc = cross_val_predict(model_gbc.best_estimator_, X, Y, cv=10, method='predict_proba')[:,1]\n",
    "\n",
    "print(confusion_matrix(Y, y_preds_gbc))\n",
    "print(classification_report(Y, y_preds_gbc))\n",
    "print(f' GBC auc: {round(roc_auc_score(Y, y_pred_probs_gbc), 2)}')"
   ]
  },
  {
   "cell_type": "code",
   "execution_count": 20,
   "id": "fe029904-bd31-40b1-ba70-03f36bcda672",
   "metadata": {
    "tags": []
   },
   "outputs": [],
   "source": [
    "# Ah hah! so the GridsearchCV object natively becomes the best model found /\n",
    "# there is no need to set it equal to the \"best_estimator_\", \n",
    "# because this is the default behavior"
   ]
  },
  {
   "cell_type": "markdown",
   "id": "7029f148-72b2-4cb2-9a8a-26816fb503c3",
   "metadata": {},
   "source": [
    "## Tuning Random Forest"
   ]
  },
  {
   "cell_type": "code",
   "execution_count": 21,
   "id": "6d9036f6-3c13-4610-8c96-d60ca0a51ebf",
   "metadata": {
    "collapsed": true,
    "jupyter": {
     "outputs_hidden": true
    },
    "tags": []
   },
   "outputs": [
    {
     "data": {
      "text/plain": [
       "{'memory': None,\n",
       " 'steps': [('scaling', StandardScaler()), ('model', RidgeClassifier())],\n",
       " 'verbose': False,\n",
       " 'scaling': StandardScaler(),\n",
       " 'model': RidgeClassifier(),\n",
       " 'scaling__copy': True,\n",
       " 'scaling__with_mean': True,\n",
       " 'scaling__with_std': True,\n",
       " 'model__alpha': 1.0,\n",
       " 'model__class_weight': None,\n",
       " 'model__copy_X': True,\n",
       " 'model__fit_intercept': True,\n",
       " 'model__max_iter': None,\n",
       " 'model__normalize': False,\n",
       " 'model__random_state': None,\n",
       " 'model__solver': 'auto',\n",
       " 'model__tol': 0.001}"
      ]
     },
     "execution_count": 21,
     "metadata": {},
     "output_type": "execute_result"
    }
   ],
   "source": [
    "models[-4][1].get_params()"
   ]
  },
  {
   "cell_type": "code",
   "execution_count": 18,
   "id": "bedf111a-70aa-419b-bfd2-2c4154b6375a",
   "metadata": {
    "tags": []
   },
   "outputs": [
    {
     "name": "stdout",
     "output_type": "stream",
     "text": [
      "highest score: 0.8384394506866416, with params: {'model__n_estimators': 124, 'model__n_jobs': 6}\n",
      "Wall time: 35.2 s\n"
     ]
    }
   ],
   "source": [
    "%%time\n",
    "model_rf = GridSearchCV(estimator = models[-5][1], \n",
    "                        param_grid = {'model__n_estimators': np.arange(120,128,2),\n",
    "                                      'model__n_jobs': [4,5,6]},\n",
    "                        cv=10)\n",
    "\n",
    "model_rf.fit(X, Y)\n",
    "print(f'highest score: {model_rf.best_score_}, with params: {model_rf.best_params_}')"
   ]
  },
  {
   "cell_type": "markdown",
   "id": "b55aa2fd-45f9-44ef-b2d7-ee007415d279",
   "metadata": {},
   "source": [
    "## cross_val_predict() on RF"
   ]
  },
  {
   "cell_type": "code",
   "execution_count": 19,
   "id": "86f52e18-d3b0-46d1-a0d3-448ad45c8630",
   "metadata": {},
   "outputs": [],
   "source": [
    "y_preds_rf = cross_val_predict(model_rf.best_estimator_, X, Y, cv=10)\n",
    "y_pred_probs_rf = cross_val_predict(model_rf.best_estimator_, X, Y, cv=10, method='predict_proba')[:,1]"
   ]
  },
  {
   "cell_type": "code",
   "execution_count": 283,
   "id": "260fd7f5-4fba-4db1-a35e-87ace3c28304",
   "metadata": {
    "collapsed": true,
    "jupyter": {
     "outputs_hidden": true
    },
    "tags": []
   },
   "outputs": [
    {
     "name": "stdout",
     "output_type": "stream",
     "text": [
      "[0.01 0.02]\n"
     ]
    },
    {
     "data": {
      "text/plain": [
       "array([120, 122, 124, 126, 128, 130])"
      ]
     },
     "execution_count": 283,
     "metadata": {},
     "output_type": "execute_result"
    }
   ],
   "source": [
    "print(np.arange(.01,.03,.01))\n",
    "np.arange(1800,2300, 100)\n",
    "np.arange(1,6)\n",
    "np.arange(120,132,2)"
   ]
  },
  {
   "cell_type": "markdown",
   "id": "d3be93e5-87f4-49ff-8665-69da2dc6172b",
   "metadata": {},
   "source": [
    "## Tuning XGB"
   ]
  },
  {
   "cell_type": "code",
   "execution_count": 24,
   "id": "17b0dc5c-c2a3-44d6-9c38-1da93fe5fd6c",
   "metadata": {
    "tags": []
   },
   "outputs": [
    {
     "name": "stdout",
     "output_type": "stream",
     "text": [
      "highest score: 0.8451685393258428, with params: {'model__learning_rate': 0.01, 'model__min_child_weight': 5, 'model__n_estimators': 1700}\n",
      "Wall time: 6min 20s\n"
     ]
    }
   ],
   "source": [
    "%%time\n",
    "\n",
    "model_xgb = GridSearchCV(estimator = models[-1][1], \n",
    "                         param_grid = {'model__learning_rate': [0.01],\n",
    "                                       'model__n_estimators': np.arange(1300,1900, 100),\n",
    "                                       'model__min_child_weight': np.arange(4,8)},\n",
    "                         cv=10)\n",
    "\n",
    "model_xgb.fit(X, Y)\n",
    "print(f'highest score: {model_xgb.best_score_}, with params: {model_xgb.best_params_}')"
   ]
  },
  {
   "cell_type": "markdown",
   "id": "cd74e25c-f5ba-4e90-9bd7-d595f091a8a0",
   "metadata": {},
   "source": [
    "## Scaling dataset with StandardScaler()"
   ]
  },
  {
   "cell_type": "code",
   "execution_count": 25,
   "id": "a1a9ee48-e0e6-4b65-9149-8ce0b3157a37",
   "metadata": {
    "tags": []
   },
   "outputs": [
    {
     "name": "stdout",
     "output_type": "stream",
     "text": [
      "Wall time: 7 ms\n"
     ]
    }
   ],
   "source": [
    "%%time\n",
    "scaler = StandardScaler()\n",
    "X_scaled = scaler.fit_transform(X)"
   ]
  },
  {
   "cell_type": "markdown",
   "id": "116f43c7-8e0e-4706-8a4f-125ea91a00b3",
   "metadata": {},
   "source": [
    "## Voting Classifer with top 4 models"
   ]
  },
  {
   "cell_type": "code",
   "execution_count": 26,
   "id": "28ff9705-03a3-41e8-b459-2ed09ced5e18",
   "metadata": {},
   "outputs": [
    {
     "data": {
      "text/plain": [
       "0    0.844024\n",
       "dtype: float64"
      ]
     },
     "metadata": {},
     "output_type": "display_data"
    },
    {
     "data": {
      "text/html": [
       "<div>\n",
       "<style scoped>\n",
       "    .dataframe tbody tr th:only-of-type {\n",
       "        vertical-align: middle;\n",
       "    }\n",
       "\n",
       "    .dataframe tbody tr th {\n",
       "        vertical-align: top;\n",
       "    }\n",
       "\n",
       "    .dataframe thead th {\n",
       "        text-align: right;\n",
       "    }\n",
       "</style>\n",
       "<table border=\"1\" class=\"dataframe\">\n",
       "  <thead>\n",
       "    <tr style=\"text-align: right;\">\n",
       "      <th></th>\n",
       "      <th>0</th>\n",
       "    </tr>\n",
       "  </thead>\n",
       "  <tbody>\n",
       "    <tr>\n",
       "      <th>0</th>\n",
       "      <td>0.818386</td>\n",
       "    </tr>\n",
       "    <tr>\n",
       "      <th>1</th>\n",
       "      <td>0.869663</td>\n",
       "    </tr>\n",
       "  </tbody>\n",
       "</table>\n",
       "</div>"
      ],
      "text/plain": [
       "          0\n",
       "0  0.818386\n",
       "1  0.869663"
      ]
     },
     "metadata": {},
     "output_type": "display_data"
    },
    {
     "name": "stdout",
     "output_type": "stream",
     "text": [
      "Wall time: 3.14 s\n"
     ]
    },
    {
     "data": {
      "text/plain": [
       "VotingClassifier(estimators=[('knn',\n",
       "                              Pipeline(steps=[('scaling', StandardScaler()),\n",
       "                                              ('model',\n",
       "                                               KNeighborsClassifier(leaf_size=1,\n",
       "                                                                    n_neighbors=10))])),\n",
       "                             ('gbc',\n",
       "                              Pipeline(steps=[('scaling', StandardScaler()),\n",
       "                                              ('model',\n",
       "                                               GradientBoostingClassifier(max_depth=4))])),\n",
       "                             ('rf',\n",
       "                              Pipeline(steps=[('scaling', StandardScaler()),\n",
       "                                              ('model',\n",
       "                                               RandomForestClassifier(n_jobs=5))]))],\n",
       "                 voting='soft')"
      ]
     },
     "execution_count": 26,
     "metadata": {},
     "output_type": "execute_result"
    }
   ],
   "source": [
    "%%time\n",
    "model_voting = VotingClassifier(estimators = [('knn', model_knn.best_estimator_),\n",
    "                                              ('gbc', model_gbc.best_estimator_),\n",
    "                                              ('rf', model_rf.best_estimator_),\n",
    "#                                             ('xgb', model_xgb.best_estimator_)\n",
    "                                                                                 ],\n",
    "                                               voting = 'soft')\n",
    "\n",
    "cv_results_voting = pd.DataFrame(cross_val_score(model_voting, X, Y, cv=10, scoring=scoring))\n",
    "\n",
    "# okay so I can see in the docs it says that if you call .predict() it will use the best model, but,\n",
    "# does that mean it actually reruns the CV function everytime .predict() is called, to find it?\n",
    "# Okay, yep, wow, this looks correct, so it should take about twice as long for this CV to run ontop of the GridCV thats already in the function\n",
    "# Okay, yep, just about twice as long, so the model.best_estimator_ method is useful, or else it will just rerun the whole gridCV\n",
    "# ah....... so the predict() function, does immediately use the \"best_estimator_\", however, the cross_val_score() function does not,\n",
    "# so this is something to keep an eye on, and when in doubt, just add model.best_estimator_ onto it since this will always work\n",
    "\n",
    "display(cv_results_voting.mean())\n",
    "display(cv_results_voting.head(2))\n",
    "\n",
    "model_voting.fit(X, Y)"
   ]
  },
  {
   "cell_type": "markdown",
   "id": "9c77f833-167e-4112-8c1f-91042c75db35",
   "metadata": {},
   "source": [
    "untuned is around .837-.847\n",
    "\n",
    "scaled + tuned is around .848-.851\n",
    "\n"
   ]
  },
  {
   "cell_type": "markdown",
   "id": "f1163992-5ee5-42a3-8727-22b0112173d0",
   "metadata": {},
   "source": [
    "## Model.predict() on GBC Model"
   ]
  },
  {
   "cell_type": "code",
   "execution_count": 28,
   "id": "60675f38-bfef-4876-a3a9-9d85cd6344e6",
   "metadata": {
    "tags": []
   },
   "outputs": [
    {
     "data": {
      "text/html": [
       "<div>\n",
       "<style scoped>\n",
       "    .dataframe tbody tr th:only-of-type {\n",
       "        vertical-align: middle;\n",
       "    }\n",
       "\n",
       "    .dataframe tbody tr th {\n",
       "        vertical-align: top;\n",
       "    }\n",
       "\n",
       "    .dataframe thead th {\n",
       "        text-align: right;\n",
       "    }\n",
       "</style>\n",
       "<table border=\"1\" class=\"dataframe\">\n",
       "  <thead>\n",
       "    <tr style=\"text-align: right;\">\n",
       "      <th></th>\n",
       "      <th>0</th>\n",
       "    </tr>\n",
       "  </thead>\n",
       "  <tbody>\n",
       "    <tr>\n",
       "      <th>416</th>\n",
       "      <td>0</td>\n",
       "    </tr>\n",
       "    <tr>\n",
       "      <th>417</th>\n",
       "      <td>0</td>\n",
       "    </tr>\n",
       "  </tbody>\n",
       "</table>\n",
       "</div>"
      ],
      "text/plain": [
       "     0\n",
       "416  0\n",
       "417  0"
      ]
     },
     "metadata": {},
     "output_type": "display_data"
    },
    {
     "data": {
      "text/html": [
       "<div>\n",
       "<style scoped>\n",
       "    .dataframe tbody tr th:only-of-type {\n",
       "        vertical-align: middle;\n",
       "    }\n",
       "\n",
       "    .dataframe tbody tr th {\n",
       "        vertical-align: top;\n",
       "    }\n",
       "\n",
       "    .dataframe thead th {\n",
       "        text-align: right;\n",
       "    }\n",
       "</style>\n",
       "<table border=\"1\" class=\"dataframe\">\n",
       "  <thead>\n",
       "    <tr style=\"text-align: right;\">\n",
       "      <th></th>\n",
       "      <th>PassengerId</th>\n",
       "      <th>Survived</th>\n",
       "    </tr>\n",
       "  </thead>\n",
       "  <tbody>\n",
       "    <tr>\n",
       "      <th>413</th>\n",
       "      <td>1305</td>\n",
       "      <td>0</td>\n",
       "    </tr>\n",
       "    <tr>\n",
       "      <th>414</th>\n",
       "      <td>1306</td>\n",
       "      <td>1</td>\n",
       "    </tr>\n",
       "    <tr>\n",
       "      <th>415</th>\n",
       "      <td>1307</td>\n",
       "      <td>0</td>\n",
       "    </tr>\n",
       "    <tr>\n",
       "      <th>416</th>\n",
       "      <td>1308</td>\n",
       "      <td>0</td>\n",
       "    </tr>\n",
       "    <tr>\n",
       "      <th>417</th>\n",
       "      <td>1309</td>\n",
       "      <td>0</td>\n",
       "    </tr>\n",
       "  </tbody>\n",
       "</table>\n",
       "</div>"
      ],
      "text/plain": [
       "     PassengerId  Survived\n",
       "413         1305         0\n",
       "414         1306         1\n",
       "415         1307         0\n",
       "416         1308         0\n",
       "417         1309         0"
      ]
     },
     "metadata": {},
     "output_type": "display_data"
    },
    {
     "name": "stdout",
     "output_type": "stream",
     "text": [
      "Wall time: 61.7 ms\n"
     ]
    }
   ],
   "source": [
    "%%time\n",
    "df_preds = pd.DataFrame(model_gbc.best_estimator_.predict(test_mvp_c))\n",
    "df_preds = df_preds.astype(int)\n",
    "display(df_preds.tail(2))\n",
    "\n",
    "\n",
    "df_preds.insert(0, 'PassengerId', df_test['PassengerId'])\n",
    "df_preds.rename(columns = {0: 'Survived'}, inplace=True)\n",
    "display(df_preds.tail(5))"
   ]
  },
  {
   "cell_type": "markdown",
   "id": "f5596292-c15f-4331-bc8c-d5b4faa0852e",
   "metadata": {},
   "source": [
    "## Model.predict() on Voting Model"
   ]
  },
  {
   "cell_type": "code",
   "execution_count": 29,
   "id": "290bde22-7951-4618-80fd-9304481be53d",
   "metadata": {},
   "outputs": [
    {
     "data": {
      "text/html": [
       "<div>\n",
       "<style scoped>\n",
       "    .dataframe tbody tr th:only-of-type {\n",
       "        vertical-align: middle;\n",
       "    }\n",
       "\n",
       "    .dataframe tbody tr th {\n",
       "        vertical-align: top;\n",
       "    }\n",
       "\n",
       "    .dataframe thead th {\n",
       "        text-align: right;\n",
       "    }\n",
       "</style>\n",
       "<table border=\"1\" class=\"dataframe\">\n",
       "  <thead>\n",
       "    <tr style=\"text-align: right;\">\n",
       "      <th></th>\n",
       "      <th>0</th>\n",
       "    </tr>\n",
       "  </thead>\n",
       "  <tbody>\n",
       "    <tr>\n",
       "      <th>416</th>\n",
       "      <td>0</td>\n",
       "    </tr>\n",
       "    <tr>\n",
       "      <th>417</th>\n",
       "      <td>0</td>\n",
       "    </tr>\n",
       "  </tbody>\n",
       "</table>\n",
       "</div>"
      ],
      "text/plain": [
       "     0\n",
       "416  0\n",
       "417  0"
      ]
     },
     "metadata": {},
     "output_type": "display_data"
    },
    {
     "data": {
      "text/html": [
       "<div>\n",
       "<style scoped>\n",
       "    .dataframe tbody tr th:only-of-type {\n",
       "        vertical-align: middle;\n",
       "    }\n",
       "\n",
       "    .dataframe tbody tr th {\n",
       "        vertical-align: top;\n",
       "    }\n",
       "\n",
       "    .dataframe thead th {\n",
       "        text-align: right;\n",
       "    }\n",
       "</style>\n",
       "<table border=\"1\" class=\"dataframe\">\n",
       "  <thead>\n",
       "    <tr style=\"text-align: right;\">\n",
       "      <th></th>\n",
       "      <th>PassengerId</th>\n",
       "      <th>Survived</th>\n",
       "    </tr>\n",
       "  </thead>\n",
       "  <tbody>\n",
       "    <tr>\n",
       "      <th>413</th>\n",
       "      <td>1305</td>\n",
       "      <td>0</td>\n",
       "    </tr>\n",
       "    <tr>\n",
       "      <th>414</th>\n",
       "      <td>1306</td>\n",
       "      <td>1</td>\n",
       "    </tr>\n",
       "    <tr>\n",
       "      <th>415</th>\n",
       "      <td>1307</td>\n",
       "      <td>0</td>\n",
       "    </tr>\n",
       "    <tr>\n",
       "      <th>416</th>\n",
       "      <td>1308</td>\n",
       "      <td>0</td>\n",
       "    </tr>\n",
       "    <tr>\n",
       "      <th>417</th>\n",
       "      <td>1309</td>\n",
       "      <td>0</td>\n",
       "    </tr>\n",
       "  </tbody>\n",
       "</table>\n",
       "</div>"
      ],
      "text/plain": [
       "     PassengerId  Survived\n",
       "413         1305         0\n",
       "414         1306         1\n",
       "415         1307         0\n",
       "416         1308         0\n",
       "417         1309         0"
      ]
     },
     "metadata": {},
     "output_type": "display_data"
    },
    {
     "name": "stdout",
     "output_type": "stream",
     "text": [
      "Wall time: 111 ms\n"
     ]
    }
   ],
   "source": [
    "%%time\n",
    "df_preds = pd.DataFrame(model_voting.predict(test_mvp_c))\n",
    "df_preds = df_preds.astype(int)\n",
    "display(df_preds.tail(2))\n",
    "\n",
    "\n",
    "df_preds.insert(0, 'PassengerId', df_test['PassengerId'])\n",
    "df_preds.rename(columns = {0: 'Survived'}, inplace=True)\n",
    "display(df_preds.tail(5))"
   ]
  },
  {
   "cell_type": "code",
   "execution_count": 30,
   "id": "dad76599-896f-419a-9221-539fb569f28c",
   "metadata": {},
   "outputs": [],
   "source": [
    "df_preds.to_csv(r'C:\\Users\\ggomp\\OneDrive\\Documents\\GitHub\\Kaggle_Competitions\\titanic_classification\\comp_preditions1.csv', index=False)"
   ]
  },
  {
   "cell_type": "markdown",
   "id": "b1f906cf-4998-4ec5-86d7-9b9bc4d4cc04",
   "metadata": {},
   "source": [
    "Notes from feature engineering:\n",
    "\n",
    "Null accuracy                    = 61.7%\n",
    "\n",
    "Drop NaNs with numeric columns   = 58.6% (train) base\n",
    "\n",
    "OHC of sex column:               = 64.7% (train) +6%\n",
    "\n",
    "IterativeImputer                 = 83.8% (train) +19%\n",
    "\n",
    "OHC of Embarked column           = 83.1% (train) -.7%\n",
    "\n",
    "QuantileTransformer              = 82.2% (train) -.9%\n",
    "\n",
    "PolynomialFeatures (scaler)      = 71.2% (train) -11%\n",
    "\n",
    "AutoPilot Accuracy               = 84.7% (train)\n",
    "\n",
    "Highest Single model Tuning acc  = 84.9% (train) +.2%\n",
    "\n",
    "Top 4 models Ensemble            = 85.1%         +.2%"
   ]
  }
 ],
 "metadata": {
  "kernelspec": {
   "display_name": "Python 3 (ipykernel)",
   "language": "python",
   "name": "python3"
  },
  "language_info": {
   "codemirror_mode": {
    "name": "ipython",
    "version": 3
   },
   "file_extension": ".py",
   "mimetype": "text/x-python",
   "name": "python",
   "nbconvert_exporter": "python",
   "pygments_lexer": "ipython3",
   "version": "3.8.11"
  }
 },
 "nbformat": 4,
 "nbformat_minor": 5
}
